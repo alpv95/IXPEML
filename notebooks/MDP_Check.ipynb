{
 "cells": [
  {
   "cell_type": "markdown",
   "metadata": {},
   "source": [
    "# MDP Method Comparison "
   ]
  },
  {
   "cell_type": "markdown",
   "metadata": {},
   "source": [
    "Notebook with explicit code to compare different methods (weighted, unweighted, cut, MLE etc.) methods to get the MDP for a 10 day PL2 exposure with flux density $10^-11$ $erg/cm^2/s$ between 2-8keV"
   ]
  },
  {
   "cell_type": "markdown",
   "metadata": {},
   "source": [
    "Final results for N(E) given by Alessandro (spec.dat) and N = 84233:\n",
    "\n",
    "\n",
    "   10d exposure on source with $10^{-11}$erg/cm$^{2}$/s between 2-8keV, $p=680$mbar, $\\Gamma = 2$, $N_{\\rm total} = 84233$, (old Aeff)"
   ]
  },
  {
   "cell_type": "markdown",
   "metadata": {},
   "source": [
    "| Method      | $\\mathbf{\\mu_{\\rm eff}}$ | $\\mathbf{N_{\\rm eff}}$$/\\mathbf{N}$ | MDP [%] | $\\mathbf{\\lambda}$ |\n",
    "| :----        | :----        | :----        | :----     | :----     |\n",
    "|*10d exposure -- $p=687$mbar (733mbar simulated tracks), final Aeff -- on source with $10^{-11}$erg/cm$^{2}$/s between 2-8keV, $\\Gamma = 2$, $N_{\\rm total} = 76287$* |  \n",
    "| **Moment Analysis** (no weight, no cuts) | 0.269       | 1.00   | 5.78        | n/a |\n",
    "| **Moment Analysis** (standard ellipticity cut on whole spectrum) | 0.316       | 0.800   | 5.56        | n/a |\n",
    "| **Moment Analysis** (Herman's method: weight by mu(E)) | 0.310       | 0.840   | 5.46        | n/a |\n",
    "| **Moment Analysis** (ellitpticity weighted, optimal) | 0.313        |   0.881    | 5.29     | 0.67 | \n",
    "| **NN** (no weight, no cuts, $\\lambda = 0$)    | 0.287        | 1.00      |  5.41    | 0 |\n",
    "| **NN** (weighted $\\lambda = 1$)    | 0.336        | 0.918      |  4.83    | 1 |\n",
    "| **NN** (weighted $\\lambda = 1.5$)    | 0.368        | 0.785      |  4.76    | 1.5 |\n",
    "| **NN** (weighted $\\lambda = 1.41$, optimal)    | 0.362        |   0.815    |  4.76    | 1.41 |\n",
    "| **NN** (weighted $\\lambda = 2$)    | 0.407        |   0.600    |  4.93    | 2 |"
   ]
  },
  {
   "cell_type": "code",
   "execution_count": null,
   "metadata": {
    "collapsed": true
   },
   "outputs": [],
   "source": [
    "Final MDP 4.112881996953663  +-  0.024757314694045608 NN weighted\n",
    "Final Neff/N 0.8051874505754256  +-  0.002072326977323748\n",
    "Final mu 0.36760210333637977  +-  0.0020652528440040026\n",
    "Final $\\lambda$ 1.8256414626359045  +-  0.008538325451052946"
   ]
  },
  {
   "cell_type": "code",
   "execution_count": null,
   "metadata": {
    "collapsed": true
   },
   "outputs": [],
   "source": [
    "Final MDP 4.598041131009557  +-  0.013916903163064657 Moments weighted\n",
    "Final Neff/N 0.8831904097441013  +-  0.0029209413613239957\n",
    "Final mu 0.3139512762186232  +-  0.0009063469526270062\n",
    "Final $\\lambda$ 0.6697302504413293  +-  0.006579427974650237"
   ]
  },
  {
   "cell_type": "code",
   "execution_count": null,
   "metadata": {
    "collapsed": true
   },
   "outputs": [],
   "source": [
    "Final MDP 5.022077321319398  +-  0.03705921402822978 Moments\n",
    "Final Neff/N 1.0  +-  0.0\n",
    "Final mu 0.2701454124978974  +-  0.001997745847838009\n",
    "Final $\\lambda$ 7.999996494569227  +-  0.0"
   ]
  },
  {
   "cell_type": "code",
   "execution_count": null,
   "metadata": {
    "collapsed": true
   },
   "outputs": [],
   "source": [
    "Final MDP 4.723611333004704  +-  0.03422666284543845 NN \n",
    "Final Neff/N 1.0  +-  0.0\n",
    "Final mu 0.2872142445167286  +-  0.002084501113755458\n",
    "Final $\\lambda$ 7.999996494569227  +-  0.0"
   ]
  },
  {
   "cell_type": "code",
   "execution_count": null,
   "metadata": {
    "collapsed": true
   },
   "outputs": [],
   "source": [
    "Final MDP 4.865220475939595  +-  0.034911713048835405 Mom cut\n",
    "Final Neff/N 0.8012040216806653  +-  0.00023586651730623788\n",
    "Final mu 0.3134670988625968  +-  0.0022496388949923606\n",
    "Final $\\lambda$ 1.0  +-  0.0"
   ]
  },
  {
   "cell_type": "code",
   "execution_count": null,
   "metadata": {
    "collapsed": true
   },
   "outputs": [],
   "source": []
  },
  {
   "cell_type": "code",
   "execution_count": null,
   "metadata": {
    "collapsed": true
   },
   "outputs": [],
   "source": [
    "Final MDP 3.6678197257608405  +-  0.014665767243220454 NN weight\n",
    "Final Neff/N 0.8044036195560945  +-  0.0018839571719211333\n",
    "Final mu 0.4124011643391589  +-  0.0016604129990953815\n",
    "Final $\\lambda$ 1.6490744136698123  +-  0.008365030385615502"
   ]
  },
  {
   "cell_type": "code",
   "execution_count": null,
   "metadata": {
    "collapsed": true
   },
   "outputs": [],
   "source": [
    "Final MDP 4.14212609340205  +-  0.013916883735426093 Mom weight\n",
    "Final Neff/N 0.8724676427964541  +-  0.0025877581888290977\n",
    "Final mu 0.3506442838032469  +-  0.0015143945539594632\n",
    "Final $\\lambda$ 0.5981172811396791  +-  0.005015058027055404"
   ]
  },
  {
   "cell_type": "code",
   "execution_count": null,
   "metadata": {
    "collapsed": true
   },
   "outputs": [],
   "source": [
    "Final MDP 4.537749384747924  +-  0.02236087055282498 Mom\n",
    "Final Neff/N 1.0  +-  0.0\n",
    "Final mu 0.2989698272950305  +-  0.001477323238525876"
   ]
  },
  {
   "cell_type": "code",
   "execution_count": null,
   "metadata": {
    "collapsed": true
   },
   "outputs": [],
   "source": [
    "Final MDP 4.2241612184197015  +-  0.017372290344335517 NN\n",
    "Final Neff/N 1.0  +-  0.0\n",
    "Final mu 0.3211619926470228  +-  0.0013192363809978061\n",
    "Final $\\lambda$ 1.0  +-  0.0"
   ]
  },
  {
   "cell_type": "code",
   "execution_count": null,
   "metadata": {
    "collapsed": true
   },
   "outputs": [],
   "source": [
    "Final MDP 4.34518860383733  +-  0.013437198854058072 Mom cut\n",
    "Final Neff/N 0.8098405326517725  +-  0.000359793699116551\n",
    "Final mu 0.3469390566067401  +-  0.0011017085798959362\n",
    "Final $\\lambda$ 1.0  +-  0.0"
   ]
  },
  {
   "cell_type": "code",
   "execution_count": 1,
   "metadata": {
    "collapsed": true
   },
   "outputs": [],
   "source": [
    "#Import simple packages\n",
    "import sys\n",
    "import os\n",
    "sys.path.insert(0, '/home/groups/rwr/alpv95/tracksml')\n",
    "import numpy as np\n",
    "import pickle\n",
    "import numpy as np\n",
    "import scipy\n",
    "from scipy import interpolate\n",
    "from scipy.optimize import minimize_scalar\n",
    "from matplotlib import rcParams\n",
    "from util.methods import *\n",
    "#Plotting Style Params\n",
    "rcParams['savefig.dpi']           = 300\n",
    "rcParams['path.simplify']         = True\n",
    "rcParams['figure.figsize']        = 4,4\n",
    "rcParams['font.family']           = \"serif\"\n",
    "rcParams['mathtext.fontset']      = \"custom\"\n",
    "rcParams['errorbar.capsize']      = 3\n",
    "rcParams['axes.linewidth']        = 0.5 \n",
    "rcParams['font.weight']           = \"bold\"\n",
    "rcParams['xtick.major.size']      = 6\n",
    "rcParams['ytick.major.size']      = 6 \n",
    "rcParams['xtick.minor.size']      = 3   \n",
    "rcParams['ytick.minor.size']      = 3\n",
    "rcParams['xtick.minor.visible']   = True\n",
    "rcParams['ytick.minor.visible']   = True\n",
    "rcParams['xtick.direction']      = \"in\"\n",
    "rcParams['ytick.direction']      = \"in\" \n",
    "rcParams['xtick.top']      = True\n",
    "rcParams['ytick.right']      = True \n",
    "rcParams['xtick.major.width']     = 1\n",
    "rcParams['ytick.major.width']     = 1\n",
    "rcParams['xtick.minor.width']     = 1\n",
    "rcParams['ytick.minor.width']     = 1\n",
    "rcParams['lines.markeredgewidth'] = 1\n",
    "rcParams['legend.numpoints']      = 1\n",
    "rcParams['legend.frameon']        = False\n",
    "rcParams['legend.handletextpad']      = 0.3\n",
    "import matplotlib.pyplot as plt\n",
    "\n",
    "\n",
    "%matplotlib inline\n",
    "home_dir = '/home/groups/rwr/alpv95/tracksml/'"
   ]
  },
  {
   "cell_type": "markdown",
   "metadata": {},
   "source": [
    "Simple helper functions, including weighted Stokes':"
   ]
  },
  {
   "cell_type": "code",
   "execution_count": 2,
   "metadata": {
    "collapsed": true
   },
   "outputs": [],
   "source": [
    "def weighted_stokes(angles, weights, lambd):\n",
    "    '''If weights equal (or lambd == 0) this reduces to normal Stokes, and Neff == N'''\n",
    "    if weights is None:\n",
    "        weights = np.ones(len(angles))\n",
    "    Q = np.sum(2*weights**lambd*np.cos(2*angles))\n",
    "    U = np.sum(2*weights**lambd*np.sin(2*angles))\n",
    "    I = np.sum(weights**lambd)\n",
    "    \n",
    "    mu = np.sqrt(Q**2 + U**2) / I\n",
    "    phi0 = 0.5*np.arctan2(U,Q)\n",
    "    Neff = I**2 / np.sum(weights**(2*lambd))\n",
    "    \n",
    "    return mu, phi0, Neff\n",
    "\n",
    "def MDP(N, mu):\n",
    "    \"MDP in %\"\n",
    "    return 100*4.29 / (mu * np.sqrt(N))\n",
    "\n",
    "def pi2_pi2(x):\n",
    "    '''Bring angle (radians) to range [-pi/2, pi/2] '''\n",
    "    return np.mod(x + np.pi/2,np.pi) - np.pi/2\n",
    "\n",
    "def ellipticity_cut(angles, moms, keep_fraction):\n",
    "        '''\n",
    "        Applies ellipticity based cuts to predicted photoelectron angles.\n",
    "        '''\n",
    "        mom_cuts = np.arange(1,4,0.01)\n",
    "        for mom_cut in mom_cuts:\n",
    "            if len(angles[moms > mom_cut]) < keep_fraction * len(angles):\n",
    "                break\n",
    "        return mom_cut\n",
    "    \n",
    "def circular_mean_weight(angles, weights, axis):\n",
    "    mean = np.array([np.mean(weights*np.cos(2*angles),axis=axis), np.mean(weights*np.sin(2*angles),axis=axis)])\n",
    "    mu = mean / np.linalg.norm(mean,axis=0)\n",
    "    return 0.5*np.arctan2(mu[1],mu[0])"
   ]
  },
  {
   "cell_type": "code",
   "execution_count": 3,
   "metadata": {
    "collapsed": true
   },
   "outputs": [],
   "source": [
    "n = np.arange(100.0)\n",
    "hdu = fits.PrimaryHDU(n)\n",
    "hdul = fits.HDUList([hdu])\n",
    "hdul.writeto('new1.fits')"
   ]
  },
  {
   "cell_type": "code",
   "execution_count": 36,
   "metadata": {
    "collapsed": true
   },
   "outputs": [],
   "source": [
    "c1 = fits.Column(name='a', array=np.ones(4), format='K')\n",
    "c2 = fits.Column(name='b', array=np.zeros(4), format='K')\n",
    "values = np.arange(2*2*4).reshape(4, 2, 2)\n",
    "c3 = fits.Column(name='intarray', format='4I', dim='(2, 2)', array=values)\n",
    "\n",
    "table_hdu = fits.BinTableHDU.from_columns([c1, c2, c3])"
   ]
  },
  {
   "cell_type": "code",
   "execution_count": 4,
   "metadata": {},
   "outputs": [
    {
     "name": "stdout",
     "output_type": "stream",
     "text": [
      "Filename: /home/groups/rwr/alpv95/tracksml/TEST_meas_10p0_pol_train___TEST_dict_meas2__ensemble.fits\n",
      "No.    Name      Ver    Type      Cards   Dimensions   Format\n",
      "  0  PRIMARY       1 PrimaryHDU       4   ()      \n",
      "  1                1 BinTableHDU     29   14400R x 8C   [6E, E, E, 6E, 2E, 2E, 2E, E]   \n",
      "None\n",
      "XTENSION= 'BINTABLE'           / binary table extension                         BITPIX  =                    8 / array data type                                NAXIS   =                    2 / number of array dimensions                     NAXIS1  =                   84 / length of dimension 1                          NAXIS2  =                14400 / length of dimension 2                          PCOUNT  =                    0 / number of group parameters                     GCOUNT  =                    1 / number of groups                               TFIELDS =                    8 / number of table fields                         TTYPE1  = 'NN_PHI  '                                                            TFORM1  = '6E      '                                                            TDIM1   = '(3, 2)  '                                                            TTYPE2  = 'MOM_PHI '                                                            TFORM2  = 'E       '                                                            TTYPE3  = 'MOM     '                                                            TFORM3  = 'E       '                                                            TTYPE4  = 'NN_SIGMA'                                                            TFORM4  = '6E      '                                                            TDIM4   = '(3, 2)  '                                                            TTYPE5  = 'NN_ABS  '                                                            TFORM5  = '2E      '                                                            TDIM5   = '(2)     '                                                            TTYPE6  = 'MOM_ABS '                                                            TFORM6  = '2E      '                                                            TDIM6   = '(2)     '                                                            TTYPE7  = 'XY_MOM_ABS'                                                          TFORM7  = '2E      '                                                            TDIM7   = '(2)     '                                                            TTYPE8  = 'NN_ENERGY'                                                           TFORM8  = 'E       '                                                            END                                                                                                                                                                                                                                                                                                                                                                                                                                                                                                                                                                             \n"
     ]
    }
   ],
   "source": [
    "with fits.open(home_dir + 'TEST_meas_10p0_pol_train___TEST_dict_meas2__ensemble.fits', memmap=False) as hdut:\n",
    "    print(hdut.info())\n",
    "    data = hdut[1].data\n",
    "    print(hdut[1].header)"
   ]
  },
  {
   "cell_type": "code",
   "execution_count": null,
   "metadata": {
    "collapsed": true
   },
   "outputs": [],
   "source": []
  },
  {
   "cell_type": "code",
   "execution_count": 9,
   "metadata": {},
   "outputs": [
    {
     "data": {
      "text/plain": [
       "<matplotlib.collections.PathCollection at 0x7f87f1474c50>"
      ]
     },
     "execution_count": 9,
     "metadata": {},
     "output_type": "execute_result"
    },
    {
     "data": {
      "image/png": "[encoded data removed]",
      "text/plain": [
       "<matplotlib.figure.Figure at 0x7f87f151d0f0>"
      ]
     },
     "metadata": {},
     "output_type": "display_data"
    }
   ],
   "source": [
    "plt.scatter(data[\"XY_NN_ABS\"][:10,0],data[\"XY_NN_ABS\"][:10,1],color='r')\n",
    "plt.scatter(data[\"XY_MOM_ABS\"][:10,0],data[\"XY_MOM_ABS\"][:10,1],color='b')"
   ]
  },
  {
   "cell_type": "code",
   "execution_count": 15,
   "metadata": {},
   "outputs": [
    {
     "data": {
      "text/plain": [
       "(array([1.6000e+01, 5.3000e+01, 1.2000e+02, 1.6300e+02, 3.5200e+02,\n",
       "        1.0920e+03, 3.9980e+03, 9.6820e+03, 1.5152e+04, 1.6055e+04,\n",
       "        1.2853e+04, 8.6730e+03, 5.6710e+03, 3.7170e+03, 2.6310e+03,\n",
       "        1.9450e+03, 1.4120e+03, 1.0730e+03, 8.1300e+02, 6.9000e+02,\n",
       "        5.3400e+02, 4.9500e+02, 4.1200e+02, 3.2800e+02, 2.9900e+02,\n",
       "        2.6300e+02, 1.9200e+02, 1.7600e+02, 1.3000e+02, 1.3700e+02,\n",
       "        1.6100e+02, 1.4200e+02, 1.0600e+02, 5.7000e+01, 3.4000e+01,\n",
       "        5.5000e+01, 4.3000e+01, 2.7000e+01, 3.8000e+01, 3.2000e+01,\n",
       "        3.3000e+01, 2.8000e+01, 3.1000e+01, 2.6000e+01, 2.1000e+01,\n",
       "        1.4000e+01, 7.0000e+00, 1.1000e+01, 5.0000e+00, 2.0000e+00]),\n",
       " array([1.1693891, 1.3337383, 1.4980875, 1.6624367, 1.8267859, 1.9911351,\n",
       "        2.1554842, 2.3198335, 2.4841826, 2.648532 , 2.812881 , 2.97723  ,\n",
       "        3.1415794, 3.3059285, 3.4702778, 3.6346269, 3.7989762, 3.9633253,\n",
       "        4.1276746, 4.2920237, 4.4563727, 4.620722 , 4.7850714, 4.9494205,\n",
       "        5.1137695, 5.2781186, 5.442468 , 5.6068172, 5.7711663, 5.9355154,\n",
       "        6.099865 , 6.264214 , 6.428563 , 6.592912 , 6.7572613, 6.921611 ,\n",
       "        7.08596  , 7.250309 , 7.414658 , 7.5790076, 7.7433567, 7.907706 ,\n",
       "        8.072055 , 8.236404 , 8.400753 , 8.565103 , 8.729452 , 8.893801 ,\n",
       "        9.05815  , 9.222499 , 9.386848 ], dtype=float32),\n",
       " <a list of 1 Patch objects>)"
      ]
     },
     "execution_count": 15,
     "metadata": {},
     "output_type": "execute_result"
    },
    {
     "data": {
      "image/png": "[encoded data removed]",
      "text/plain": [
       "<matplotlib.figure.Figure at 0x7f87f0f85278>"
      ]
     },
     "metadata": {},
     "output_type": "display_data"
    }
   ],
   "source": [
    "plt.hist(data['NN_ENERGY'],histtype='step',bins=50,color='b')\n",
    "# plt.hist(pi2_pi2(data['MOM_PHI']),histtype='step',bins=50,color='r')"
   ]
  },
  {
   "cell_type": "code",
   "execution_count": 23,
   "metadata": {},
   "outputs": [
    {
     "data": {
      "text/plain": [
       "(array([5779.,    0.,    0.,    0.,  501.,    0.,    0.,    0.,  561.,\n",
       "           0.,    0.,    0.,  717.,    0.,    0.,    0.,  655.,    0.,\n",
       "           0.,    0.,  468.,    0.,    0.,    0., 5719.]),\n",
       " array([0.  , 0.04, 0.08, 0.12, 0.16, 0.2 , 0.24, 0.28, 0.32, 0.36, 0.4 ,\n",
       "        0.44, 0.48, 0.52, 0.56, 0.6 , 0.64, 0.68, 0.72, 0.76, 0.8 , 0.84,\n",
       "        0.88, 0.92, 0.96, 1.  ]),\n",
       " <a list of 25 Patch objects>)"
      ]
     },
     "execution_count": 23,
     "metadata": {},
     "output_type": "execute_result"
    },
    {
     "data": {
      "image/png": "[encoded data removed]",
      "text/plain": [
       "<matplotlib.figure.Figure at 0x7fa5b5771208>"
      ]
     },
     "metadata": {},
     "output_type": "display_data"
    }
   ],
   "source": [
    "plt.hist(np.mean((data['NN_PHI'] >= np.pi/2) + (data['NN_PHI'] < -np.pi/2), axis=(1,2)), bins=25)"
   ]
  },
  {
   "cell_type": "code",
   "execution_count": 29,
   "metadata": {},
   "outputs": [
    {
     "data": {
      "text/plain": [
       "(array([115., 126., 131., 143., 166., 174., 184., 186., 216., 226., 266.,\n",
       "        237., 288., 270., 263., 291., 298., 361., 297., 280., 261., 248.,\n",
       "        255., 258., 213., 204., 171., 201., 156., 138., 125., 111., 118.,\n",
       "        108., 110., 107., 146., 147., 126., 144., 175., 168., 170., 180.,\n",
       "        190., 202., 222., 231., 284., 274., 257., 288., 317., 269., 312.,\n",
       "        257., 242., 243., 256., 257., 217., 185., 218., 183., 205., 146.,\n",
       "        158., 141., 140., 148.]),\n",
       " array([-3.14126219e+00, -3.05151028e+00, -2.96175838e+00, -2.87200647e+00,\n",
       "        -2.78225456e+00, -2.69250265e+00, -2.60275074e+00, -2.51299883e+00,\n",
       "        -2.42324692e+00, -2.33349501e+00, -2.24374310e+00, -2.15399119e+00,\n",
       "        -2.06423928e+00, -1.97448737e+00, -1.88473546e+00, -1.79498355e+00,\n",
       "        -1.70523164e+00, -1.61547973e+00, -1.52572782e+00, -1.43597591e+00,\n",
       "        -1.34622400e+00, -1.25647209e+00, -1.16672019e+00, -1.07696828e+00,\n",
       "        -9.87216366e-01, -8.97464457e-01, -8.07712547e-01, -7.17960638e-01,\n",
       "        -6.28208728e-01, -5.38456819e-01, -4.48704909e-01, -3.58952999e-01,\n",
       "        -2.69201090e-01, -1.79449180e-01, -8.96972709e-02,  5.46385781e-05,\n",
       "         8.98065481e-02,  1.79558458e-01,  2.69310367e-01,  3.59062277e-01,\n",
       "         4.48814186e-01,  5.38566096e-01,  6.28318005e-01,  7.18069915e-01,\n",
       "         8.07821824e-01,  8.97573734e-01,  9.87325643e-01,  1.07707755e+00,\n",
       "         1.16682946e+00,  1.25658137e+00,  1.34633328e+00,  1.43608519e+00,\n",
       "         1.52583710e+00,  1.61558901e+00,  1.70534092e+00,  1.79509283e+00,\n",
       "         1.88484474e+00,  1.97459665e+00,  2.06434856e+00,  2.15410047e+00,\n",
       "         2.24385238e+00,  2.33360429e+00,  2.42335620e+00,  2.51310810e+00,\n",
       "         2.60286001e+00,  2.69261192e+00,  2.78236383e+00,  2.87211574e+00,\n",
       "         2.96186765e+00,  3.05161956e+00,  3.14137147e+00]),\n",
       " <a list of 70 Patch objects>)"
      ]
     },
     "execution_count": 29,
     "metadata": {},
     "output_type": "execute_result"
    },
    {
     "data": {
      "image/png": "[encoded data removed]",
      "text/plain": [
       "<matplotlib.figure.Figure at 0x7fa5b4b0f240>"
      ]
     },
     "metadata": {},
     "output_type": "display_data"
    }
   ],
   "source": [
    "plt.hist(data['NN_PHI'][:,0,0], bins=70, histtype='step', color='k')\n",
    "plt.hist(data['NN_PHI'][:,0,1], bins=70, histtype='step', color='b')\n",
    "plt.hist(data['NN_PHI'][:,0,2], bins=70, histtype='step', color='r')\n",
    "\n",
    "pi_fix = (np.mean((data['NN_PHI'] >= np.pi/2) + (data['NN_PHI'] < -np.pi/2), axis=(1,2)) >= 0.5) * np.pi\n",
    "plt.hist(pi_pi(circular_mean(data['NN_PHI'], axis=(1,2)) + pi_fix), alpha=0.3,bins=70)"
   ]
  },
  {
   "cell_type": "code",
   "execution_count": 83,
   "metadata": {},
   "outputs": [
    {
     "data": {
      "text/plain": [
       "(array([144., 152., 163., 217., 222., 230., 284., 311., 347., 335., 344.,\n",
       "        367., 473., 436., 405., 360., 398., 343., 271., 316., 268., 232.,\n",
       "        196., 196., 186., 189., 234., 217., 242., 272., 271., 306., 311.,\n",
       "        376., 397., 403., 445., 441., 370., 341., 331., 306., 336., 259.,\n",
       "        248., 211., 209., 159., 155., 175.]),\n",
       " array([-3.14126219e+00, -3.01560952e+00, -2.88995685e+00, -2.76430417e+00,\n",
       "        -2.63865150e+00, -2.51299883e+00, -2.38734615e+00, -2.26169348e+00,\n",
       "        -2.13604081e+00, -2.01038813e+00, -1.88473546e+00, -1.75908279e+00,\n",
       "        -1.63343011e+00, -1.50777744e+00, -1.38212477e+00, -1.25647209e+00,\n",
       "        -1.13081942e+00, -1.00516675e+00, -8.79514075e-01, -7.53861401e-01,\n",
       "        -6.28208728e-01, -5.02556055e-01, -3.76903381e-01, -2.51250708e-01,\n",
       "        -1.25598035e-01,  5.46385781e-05,  1.25707312e-01,  2.51359985e-01,\n",
       "         3.77012659e-01,  5.02665332e-01,  6.28318005e-01,  7.53970679e-01,\n",
       "         8.79623352e-01,  1.00527603e+00,  1.13092870e+00,  1.25658137e+00,\n",
       "         1.38223405e+00,  1.50788672e+00,  1.63353939e+00,  1.75919207e+00,\n",
       "         1.88484474e+00,  2.01049741e+00,  2.13615009e+00,  2.26180276e+00,\n",
       "         2.38745543e+00,  2.51310810e+00,  2.63876078e+00,  2.76441345e+00,\n",
       "         2.89006612e+00,  3.01571880e+00,  3.14137147e+00]),\n",
       " <a list of 1 Patch objects>)"
      ]
     },
     "execution_count": 83,
     "metadata": {},
     "output_type": "execute_result"
    },
    {
     "data": {
      "image/png": "[encoded data removed]",
      "text/plain": [
       "<matplotlib.figure.Figure at 0x7f06efba0fd0>"
      ]
     },
     "metadata": {},
     "output_type": "display_data"
    }
   ],
   "source": [
    "# plt.hist(data['NN_PHI'][:,0,0],bins=50,histtype='step',color='k')\n",
    "# plt.hist(data['NN_PHI'][:,0,1],bins=50,histtype='step',color='k')\n",
    "plt.hist(data['NN_PHI'][:,0,2],bins=50,histtype='step',color='k')\n",
    "pi_fix = (data['NN_PHI'][:,0,0] >= np.pi/2) * np.pi + (data['NN_PHI'][:,0,0] < -np.pi/2) * np.pi\n",
    "pi_fix1 = (data['NN_PHI'][:,0,2] >= np.pi/2) * np.pi + (data['NN_PHI'][:,0,2] < -np.pi/2) * np.pi\n",
    "plt.hist(pi_pi(circular_mean(data['NN_PHI'],axis=(1,2)) + pi_fix),bins=50,histtype='step')\n",
    "plt.hist(pi_pi(circular_mean(data['NN_PHI'],axis=(1,2)) + pi_fix1),bins=50,histtype='step')"
   ]
  },
  {
   "cell_type": "code",
   "execution_count": 51,
   "metadata": {
    "collapsed": true
   },
   "outputs": [],
   "source": [
    "x = np.array([[-1.41430402, -1.45397198],\n",
    " [-1.38644815, -1.378577  ],\n",
    " [-1.45166743, -1.42719949],])"
   ]
  },
  {
   "cell_type": "code",
   "execution_count": 56,
   "metadata": {},
   "outputs": [
    {
     "data": {
      "text/plain": [
       "array([-1.41430402, -1.38644815, -1.45166743])"
      ]
     },
     "execution_count": 56,
     "metadata": {},
     "output_type": "execute_result"
    }
   ],
   "source": [
    "x[:,0]"
   ]
  },
  {
   "cell_type": "code",
   "execution_count": 43,
   "metadata": {},
   "outputs": [
    {
     "data": {
      "text/plain": [
       "(array([4.000e+00, 3.000e+00, 4.000e+00, 5.000e+00, 9.000e+00, 5.000e+00,\n",
       "        8.000e+00, 5.000e+00, 6.000e+00, 8.000e+00, 1.000e+01, 1.400e+01,\n",
       "        1.200e+01, 1.700e+01, 1.100e+01, 1.500e+01, 2.200e+01, 3.200e+01,\n",
       "        5.700e+01, 8.700e+01, 8.800e+01, 8.800e+01, 8.600e+01, 1.030e+02,\n",
       "        1.320e+02, 1.610e+02, 1.200e+02, 1.220e+02, 1.010e+02, 1.420e+02,\n",
       "        1.730e+02, 1.990e+02, 2.340e+02, 2.960e+02, 3.100e+02, 3.740e+02,\n",
       "        3.980e+02, 4.470e+02, 7.750e+02, 1.512e+03, 2.533e+03, 2.874e+03,\n",
       "        2.236e+03, 1.290e+03, 6.000e+02, 2.210e+02, 5.300e+01, 1.700e+01,\n",
       "        3.000e+00, 2.000e+00]),\n",
       " array([ 1.3044508,  1.4959545,  1.6874583,  1.8789619,  2.0704658,\n",
       "         2.2619696,  2.453473 ,  2.6449769,  2.8364806,  3.0279844,\n",
       "         3.2194881,  3.410992 ,  3.6024957,  3.7939994,  3.9855032,\n",
       "         4.1770067,  4.3685107,  4.5600142,  4.7515182,  4.943022 ,\n",
       "         5.1345253,  5.3260293,  5.517533 ,  5.709037 ,  5.9005404,\n",
       "         6.0920444,  6.283548 ,  6.475052 ,  6.6665554,  6.8580594,\n",
       "         7.049563 ,  7.2410665,  7.4325705,  7.624074 ,  7.815578 ,\n",
       "         8.007082 ,  8.1985855,  8.390089 ,  8.581593 ,  8.773097 ,\n",
       "         8.964601 ,  9.156104 ,  9.347608 ,  9.539111 ,  9.730616 ,\n",
       "         9.922119 , 10.113623 , 10.305126 , 10.496631 , 10.688134 ,\n",
       "        10.879638 ], dtype=float32),\n",
       " <a list of 1 Patch objects>)"
      ]
     },
     "execution_count": 43,
     "metadata": {},
     "output_type": "execute_result"
    },
    {
     "data": {
      "image/png": "[encoded data removed]",
      "text/plain": [
       "<matplotlib.figure.Figure at 0x7f06f32665f8>"
      ]
     },
     "metadata": {},
     "output_type": "display_data"
    }
   ],
   "source": [
    "plt.hist(data['NN_ENERGY'],histtype='step', bins=50)"
   ]
  },
  {
   "cell_type": "code",
   "execution_count": 31,
   "metadata": {},
   "outputs": [
    {
     "data": {
      "text/plain": [
       "(30000, 400)"
      ]
     },
     "execution_count": 31,
     "metadata": {},
     "output_type": "execute_result"
    }
   ],
   "source": [
    "data['PIX_X'].shape"
   ]
  },
  {
   "cell_type": "markdown",
   "metadata": {},
   "source": [
    "### Dataset: 10 day PL2"
   ]
  },
  {
   "cell_type": "markdown",
   "metadata": {},
   "source": [
    "First we describe the dataset on which the MDP will be calculated. UV filter transmission is included in our Aeff."
   ]
  },
  {
   "cell_type": "code",
   "execution_count": 44,
   "metadata": {
    "collapsed": true
   },
   "outputs": [],
   "source": [
    "#Load DU information\n",
    "area_old = np.loadtxt(\"Rev_IXPE_Mirror_Aeff_old.txt\")\n",
    "area = np.loadtxt(\"MMA_cal-eff-area_20200831.txt\")[:,(0,-1)]\n",
    "eff1 = np.loadtxt(\"du_efficiency_687mbar.txt\")\n",
    "spec = np.loadtxt(\"spec.dat\")\n",
    "E = area_old[:,0]"
   ]
  },
  {
   "cell_type": "markdown",
   "metadata": {},
   "source": [
    "Calculate observed $\\frac{dN}{dE}$ and total N for a PL2 source, observed flux density $= 10^{-11}$erg/cm^2/s between 2-8keV, 10 day exposure.\n",
    "\n",
    "For a PL2 source: $\\frac{dN}{dE} = AE^{-2}$\n",
    "\n",
    "$10^{-11}erg = \\int^{8keV}_{2keV} AE^{-2}*E dE$, use this to calculate $A$\n",
    "\n",
    "Then final observed N(E) is: $\\frac{dN}{dE} = (10*24*60*60) * A_{eff}(E) * QE(E) * E^{-2} * A$ with appropriate units.\n",
    "\n",
    "N total is given by integrating N(E), in our case just multiplying by E bin widths (0.04keV) and summing.\n",
    "$N_{tot} = \\sum_{2-8kev} \\frac{dN}{dE} * 0.04$"
   ]
  },
  {
   "cell_type": "code",
   "execution_count": 45,
   "metadata": {},
   "outputs": [
    {
     "name": "stdout",
     "output_type": "stream",
     "text": [
      "N total:  85173.04310656742\n",
      "N total:  76477.46800167757\n"
     ]
    }
   ],
   "source": [
    "A = (1e-11 * 6.24151e+8) / (np.log(8) - np.log(2))\n",
    "print(\"N total: \", np.sum((10*24*60*60) * np.interp(np.linspace(2,8,1201),area_old[:,0],area_old[:,1]) * 0.95 * np.interp(np.linspace(2,8,1201),eff1[:,0],eff1[:,1])/0.8 * A * np.linspace(2,8,1201)**(-2) * 0.005 ))\n",
    "print(\"N total: \", np.sum((10*24*60*60) * np.interp(np.linspace(2,8,1201),area[:,0],area[:,1]) \n",
    "                          * np.interp(np.linspace(2,8,1201),eff1[:,0],eff1[:,1])/0.8 * A * np.linspace(2,8,1201)**(-2) \n",
    "                          * 0.005 ))\n"
   ]
  },
  {
   "cell_type": "code",
   "execution_count": 46,
   "metadata": {
    "collapsed": true
   },
   "outputs": [],
   "source": [
    "N_E_28 = (10*24*60*60) * np.interp(np.linspace(2,8,1201),area[:,0],area[:,1]) \\\n",
    "                          * np.interp(np.linspace(2,8,1201),eff1[:,0],eff1[:,1])/0.8 * A * np.linspace(2,8,1201)**(-2) \\\n",
    "                          * 0.005 \n",
    "N_E_28[0] *= 0.5\n",
    "N_E_28[-1] *= 0.5\n"
   ]
  },
  {
   "cell_type": "code",
   "execution_count": 47,
   "metadata": {
    "collapsed": true
   },
   "outputs": [],
   "source": [
    "#for PL1:\n",
    "A = (1e-11 * 6.24151e+8) / (np.log(8) - np.log(2))"
   ]
  },
  {
   "cell_type": "code",
   "execution_count": 48,
   "metadata": {},
   "outputs": [
    {
     "name": "stdout",
     "output_type": "stream",
     "text": [
      "(1601,)\n"
     ]
    },
    {
     "data": {
      "text/plain": [
       "[<matplotlib.lines.Line2D at 0x7f24d3004630>]"
      ]
     },
     "execution_count": 48,
     "metadata": {},
     "output_type": "execute_result"
    },
    {
     "data": {
      "image/png": "[encoded data removed]",
      "text/plain": [
       "<matplotlib.figure.Figure at 0x7f24d3056ef0>"
      ]
     },
     "metadata": {},
     "output_type": "display_data"
    }
   ],
   "source": [
    "N_E = (10*24*60*60) * np.interp(np.linspace(1,9,1601),area[:,0],area[:,1]) \\\n",
    "                          * np.interp(np.linspace(1,9,1601),eff1[:,0],eff1[:,1])/0.8 * A * np.linspace(1,9,1601)**(-2) \\\n",
    "                          * 0.005 \n",
    "print(N_E.shape)\n",
    "\n",
    "plt.plot(np.linspace(1,9,1601), N_E)"
   ]
  },
  {
   "cell_type": "code",
   "execution_count": 12,
   "metadata": {
    "collapsed": true
   },
   "outputs": [],
   "source": [
    "N_E = (10*24*60*60) * np.linspace(1,9,1601)**(-1) \\\n",
    "                          * 0.005 "
   ]
  },
  {
   "cell_type": "code",
   "execution_count": null,
   "metadata": {
    "collapsed": true
   },
   "outputs": [],
   "source": []
  },
  {
   "cell_type": "code",
   "execution_count": 10,
   "metadata": {},
   "outputs": [
    {
     "ename": "ValueError",
     "evalue": "operands could not be broadcast together with shapes (1201,) (13,) ",
     "output_type": "error",
     "traceback": [
      "\u001b[0;31m---------------------------------------------------------------------------\u001b[0m",
      "\u001b[0;31mValueError\u001b[0m                                Traceback (most recent call last)",
      "\u001b[0;32m<ipython-input-10-1b93bf1f2539>\u001b[0m in \u001b[0;36m<module>\u001b[0;34m\u001b[0m\n\u001b[0;32m----> 1\u001b[0;31m \u001b[0mdN_dE\u001b[0m \u001b[0;34m=\u001b[0m \u001b[0;34m(\u001b[0m\u001b[0;36m10\u001b[0m\u001b[0;34m*\u001b[0m\u001b[0;36m24\u001b[0m\u001b[0;34m*\u001b[0m\u001b[0;36m60\u001b[0m\u001b[0;34m*\u001b[0m\u001b[0;36m60\u001b[0m\u001b[0;34m)\u001b[0m \u001b[0;34m*\u001b[0m \u001b[0mnp\u001b[0m\u001b[0;34m.\u001b[0m\u001b[0minterp\u001b[0m\u001b[0;34m(\u001b[0m\u001b[0mnp\u001b[0m\u001b[0;34m.\u001b[0m\u001b[0mlinspace\u001b[0m\u001b[0;34m(\u001b[0m\u001b[0;36m2\u001b[0m\u001b[0;34m,\u001b[0m\u001b[0;36m8\u001b[0m\u001b[0;34m,\u001b[0m\u001b[0;36m1201\u001b[0m\u001b[0;34m)\u001b[0m\u001b[0;34m,\u001b[0m\u001b[0marea_old\u001b[0m\u001b[0;34m[\u001b[0m\u001b[0;34m:\u001b[0m\u001b[0;34m,\u001b[0m\u001b[0;36m0\u001b[0m\u001b[0;34m]\u001b[0m\u001b[0;34m,\u001b[0m\u001b[0marea_old\u001b[0m\u001b[0;34m[\u001b[0m\u001b[0;34m:\u001b[0m\u001b[0;34m,\u001b[0m\u001b[0;36m1\u001b[0m\u001b[0;34m]\u001b[0m\u001b[0;34m)\u001b[0m \u001b[0;34m*\u001b[0m \u001b[0;36m0.95\u001b[0m \u001b[0;34m*\u001b[0m \u001b[0mnp\u001b[0m\u001b[0;34m.\u001b[0m\u001b[0minterp\u001b[0m\u001b[0;34m(\u001b[0m\u001b[0mnp\u001b[0m\u001b[0;34m.\u001b[0m\u001b[0mlinspace\u001b[0m\u001b[0;34m(\u001b[0m\u001b[0;36m2\u001b[0m\u001b[0;34m,\u001b[0m\u001b[0;36m8\u001b[0m\u001b[0;34m,\u001b[0m\u001b[0;36m1201\u001b[0m\u001b[0;34m)\u001b[0m\u001b[0;34m,\u001b[0m\u001b[0meff1\u001b[0m\u001b[0;34m[\u001b[0m\u001b[0;34m:\u001b[0m\u001b[0;34m,\u001b[0m\u001b[0;36m0\u001b[0m\u001b[0;34m]\u001b[0m\u001b[0;34m,\u001b[0m\u001b[0meff1\u001b[0m\u001b[0;34m[\u001b[0m\u001b[0;34m:\u001b[0m\u001b[0;34m,\u001b[0m\u001b[0;36m1\u001b[0m\u001b[0;34m]\u001b[0m\u001b[0;34m)\u001b[0m\u001b[0;34m/\u001b[0m\u001b[0;36m0.8\u001b[0m \u001b[0;34m*\u001b[0m \u001b[0mA\u001b[0m \u001b[0;34m*\u001b[0m \u001b[0mnp\u001b[0m\u001b[0;34m.\u001b[0m\u001b[0mlinspace\u001b[0m\u001b[0;34m(\u001b[0m\u001b[0;36m2\u001b[0m\u001b[0;34m,\u001b[0m\u001b[0;36m8\u001b[0m\u001b[0;34m,\u001b[0m\u001b[0;36m1201\u001b[0m\u001b[0;34m)\u001b[0m\u001b[0;34m**\u001b[0m\u001b[0;34m(\u001b[0m\u001b[0;34m-\u001b[0m\u001b[0;36m2\u001b[0m\u001b[0;34m)\u001b[0m\u001b[0;34m\u001b[0m\u001b[0m\n\u001b[0m\u001b[1;32m      2\u001b[0m \u001b[0mplt\u001b[0m\u001b[0;34m.\u001b[0m\u001b[0mplot\u001b[0m\u001b[0;34m(\u001b[0m\u001b[0mspec\u001b[0m\u001b[0;34m[\u001b[0m\u001b[0;34m:\u001b[0m\u001b[0;34m,\u001b[0m\u001b[0;36m0\u001b[0m\u001b[0;34m]\u001b[0m\u001b[0;34m,\u001b[0m\u001b[0mspec\u001b[0m\u001b[0;34m[\u001b[0m\u001b[0;34m:\u001b[0m\u001b[0;34m,\u001b[0m\u001b[0;36m1\u001b[0m\u001b[0;34m]\u001b[0m\u001b[0;34m/\u001b[0m\u001b[0;36m0.055\u001b[0m\u001b[0;34m,\u001b[0m\u001b[0;34m\"b\"\u001b[0m\u001b[0;34m,\u001b[0m\u001b[0mlabel\u001b[0m\u001b[0;34m=\u001b[0m\u001b[0;34m\"dN_dE Alessandro\"\u001b[0m\u001b[0;34m)\u001b[0m\u001b[0;34m\u001b[0m\u001b[0m\n\u001b[1;32m      3\u001b[0m \u001b[0mplt\u001b[0m\u001b[0;34m.\u001b[0m\u001b[0mplot\u001b[0m\u001b[0;34m(\u001b[0m\u001b[0mnp\u001b[0m\u001b[0;34m.\u001b[0m\u001b[0mlinspace\u001b[0m\u001b[0;34m(\u001b[0m\u001b[0;36m2\u001b[0m\u001b[0;34m,\u001b[0m\u001b[0;36m8\u001b[0m\u001b[0;34m,\u001b[0m\u001b[0;36m1201\u001b[0m\u001b[0;34m)\u001b[0m\u001b[0;34m,\u001b[0m\u001b[0mdN_dE\u001b[0m\u001b[0;34m,\u001b[0m\u001b[0;34m\"r\"\u001b[0m\u001b[0;34m,\u001b[0m\u001b[0mlabel\u001b[0m\u001b[0;34m=\u001b[0m\u001b[0;34m\"dN_dE Lawrence\"\u001b[0m\u001b[0;34m)\u001b[0m\u001b[0;34m\u001b[0m\u001b[0m\n\u001b[1;32m      4\u001b[0m \u001b[0mplt\u001b[0m\u001b[0;34m.\u001b[0m\u001b[0mlegend\u001b[0m\u001b[0;34m(\u001b[0m\u001b[0;34m)\u001b[0m\u001b[0;34m\u001b[0m\u001b[0m\n",
      "\u001b[0;31mValueError\u001b[0m: operands could not be broadcast together with shapes (1201,) (13,) "
     ]
    }
   ],
   "source": [
    "dN_dE = (10*24*60*60) * np.interp(np.linspace(2,8,1201),area_old[:,0],area_old[:,1]) * 0.95 * np.interp(np.linspace(2,8,1201),eff1[:,0],eff1[:,1])/0.8 * A * np.linspace(2,8,1201)**(-2)\n",
    "plt.plot(spec[:,0],spec[:,1]/0.055,\"b\",label=\"dN_dE Alessandro\")\n",
    "plt.plot(np.linspace(2,8,1201),dN_dE,\"r\",label=\"dN_dE Lawrence\")\n",
    "plt.legend()\n"
   ]
  },
  {
   "cell_type": "markdown",
   "metadata": {},
   "source": [
    "Small discrepancy"
   ]
  },
  {
   "cell_type": "code",
   "execution_count": 2,
   "metadata": {
    "collapsed": true
   },
   "outputs": [],
   "source": [
    "mus_lamb1 = np.loadtxt(\"ml_modf_lambda1.dat\")"
   ]
  },
  {
   "cell_type": "code",
   "execution_count": 342,
   "metadata": {},
   "outputs": [
    {
     "name": "stdout",
     "output_type": "stream",
     "text": [
      "effective mu >>  0.2934298660191233\n"
     ]
    }
   ],
   "source": [
    "#Interpolating modulation factors from fig.4 lambda=1 curve to find count weighted (effective) mu\n",
    "cw_mu = 0\n",
    "f = interpolate.interp1d(mus_lamb1[:,0], mus_lamb1[:,1], bounds_error=False, fill_value=(mus_lamb1[0,1],mus_lamb1[-1,1]), kind=\"cubic\")\n",
    "mus_alessandro = f(spec[:,0])\n",
    "for i, _ in enumerate(spec[:,0]):\n",
    "    cw_mu += spec[i,1] * mus_alessandro[i]\n",
    "print(\"effective mu >> \", cw_mu / np.sum(spec[:,1]))\n"
   ]
  },
  {
   "cell_type": "code",
   "execution_count": 4,
   "metadata": {
    "collapsed": true
   },
   "outputs": [],
   "source": [
    "#Optimal lambda curve\n",
    "modf = np.array([0.01152239, 0.02857549, 0.03676831, 0.06658046, 0.09859106,\n",
    "       0.15013547, 0.19493121, 0.2406856 , 0.29436692, 0.3316057 ,\n",
    "       0.35084625, 0.3885731 , 0.42661466, 0.45710947, 0.47333499,\n",
    "       0.50264052, 0.52664183, 0.5512557 , 0.57346432, 0.58645119,\n",
    "       0.60806635, 0.63022263, 0.648868  , 0.6567768 , 0.66483871,\n",
    "       0.67238125, 0.67989105, 0.69809003, 0.69501987, 0.71270086,\n",
    "       0.71867784, 0.72651447, 0.72621233, 0.73313247, 0.74710843,\n",
    "       0.74305002, 0.73992393, 0.74700496, 0.74446969, 0.75163083])\n",
    "E_x = np.arange(1.05,9.0,0.2)"
   ]
  },
  {
   "cell_type": "code",
   "execution_count": 15,
   "metadata": {
    "collapsed": true
   },
   "outputs": [],
   "source": [
    "modf = np.array([0.013413253206931144,0.03582107035701835,0.04705704681193877,0.07445266826446555,0.11371186431655898,\n",
    "                 0.1730904718414583,0.22025438088202015,0.2601416616577313,0.32159814522417185,0.3566545983353937,\n",
    "                 0.37967555069511855,0.4096253389348866,0.4519022678793293,0.47461959819251587,0.48600014297735894,\n",
    "                 0.5169858028700594,0.5362709624310664,0.5598153052485632,0.5799242928123779,0.5921995970346027,\n",
    "                 0.6121168521517308,0.6321629146956309,0.6475517807150526,0.6563560799476915,0.6574089331922874,\n",
    "                 0.6671626016694785,0.6778543859593182,0.6897796705679359,0.6843595479460708,0.7028520478761379,\n",
    "                 0.7019611214434911,0.7139015215495638,0.7150924884492114,0.722299312049427,0.7425621154333044,\n",
    "                 0.7313050602016353,0.7314076023043921,0.7398437224374446,0.7356118132954848,0.7413855839407567])\n",
    "neffs = np.array([0.94269862, 0.80185904, 0.8087041 , 0.92823076, 0.88734158,\n",
    "       0.86816774, 0.87638907, 0.9062186 , 0.88310844, 0.88178803,\n",
    "       0.86443199, 0.86913395, 0.8532781 , 0.87187596, 0.86564145,\n",
    "       0.86447448, 0.87058656, 0.87424586, 0.87447681, 0.87377783,\n",
    "       0.87814416, 0.88397511, 0.88407838, 0.88649601, 0.89434212,\n",
    "       0.89446071, 0.89215596, 0.89180937, 0.89297111, 0.90102346,\n",
    "       0.90098569, 0.89760676, 0.89679204, 0.89590266, 0.89643237,\n",
    "       0.90120803, 0.89508762, 0.88802987, 0.88681704, 0.88714796])\n",
    "E_x = np.arange(1.05,9.0,0.2)"
   ]
  },
  {
   "cell_type": "code",
   "execution_count": 171,
   "metadata": {
    "collapsed": true
   },
   "outputs": [],
   "source": [
    "modf = np.array([0.01152239, 0.02857549, 0.03676831, 0.06658046, 0.09859106,\n",
    "       0.15013547, 0.19493121, 0.2406856 , 0.29436692, 0.3316057 ,\n",
    "       0.35084625, 0.3885731 , 0.42661466, 0.45710947, 0.47333499,\n",
    "       0.50264052, 0.52664183, 0.5512557 , 0.57346432, 0.58645119,\n",
    "       0.60806635, 0.63022263, 0.648868  , 0.6567768 , 0.66483871,\n",
    "       0.67238125, 0.67989105, 0.69809003, 0.69501987, 0.71270086,\n",
    "       0.71867784, 0.72651447, 0.72621233, 0.73313247, 0.74710843,\n",
    "       0.74305002, 0.73992393, 0.74700496, 0.74446969, 0.75163083])\n",
    "E_x = np.arange(1.05,9.0,0.2)\n",
    "\n",
    "f = interpolate.interp1d(E_x, modf, bounds_error=False, fill_value=(modf[0],modf[-1]), kind=\"cubic\")\n",
    "modf_weight = f(energies_spec)"
   ]
  },
  {
   "cell_type": "code",
   "execution_count": 23,
   "metadata": {},
   "outputs": [
    {
     "data": {
      "text/plain": [
       "[<matplotlib.lines.Line2D at 0x7fb91f0344e0>]"
      ]
     },
     "execution_count": 23,
     "metadata": {},
     "output_type": "execute_result"
    },
    {
     "data": {
      "image/png": "[encoded data removed]",
      "text/plain": [
       "<matplotlib.figure.Figure at 0x7fb91f103470>"
      ]
     },
     "metadata": {
      "needs_background": "light"
     },
     "output_type": "display_data"
    }
   ],
   "source": [
    "plt.plot(spec[:,0],Neff)"
   ]
  },
  {
   "cell_type": "code",
   "execution_count": 22,
   "metadata": {},
   "outputs": [
    {
     "name": "stdout",
     "output_type": "stream",
     "text": [
      "effective mu >>  0.3295964800287547\n",
      "effective Neff >>  0.8780058338328267\n",
      "4.838107052306757\n"
     ]
    }
   ],
   "source": [
    "#Using full curve to calculate count weighted (effective) mu\n",
    "cw_mu = 0\n",
    "cw_neff = 0\n",
    "f = interpolate.interp1d(E_x, modf, bounds_error=False, fill_value=(modf[0],modf[-1]), kind=\"linear\")\n",
    "g = interpolate.interp1d(E_x, neffs, bounds_error=False, fill_value=(neffs[0],neffs[-1]), kind=\"linear\")\n",
    "mus = f(spec[:,0])\n",
    "Neff = g(spec[:,0])\n",
    "for i,e in enumerate(spec[:,0]):\n",
    "    cw_mu += spec[i,1] * mus[i]\n",
    "    cw_neff += spec[i,1] * Neff[i]\n",
    "print(\"effective mu >> \", cw_mu / np.sum(spec[:,1]))\n",
    "print(\"effective Neff >> \", cw_neff / np.sum(spec[:,1]))\n",
    "print(MDP(cw_mu / np.sum(spec[:,1]), 82433* cw_neff / np.sum(spec[:,1])))\n"
   ]
  },
  {
   "cell_type": "code",
   "execution_count": 344,
   "metadata": {},
   "outputs": [
    {
     "data": {
      "text/plain": [
       "Text(0,0.5,'$\\\\mu$')"
      ]
     },
     "execution_count": 344,
     "metadata": {},
     "output_type": "execute_result"
    },
    {
     "data": {
      "image/png": "[encoded data removed]",
      "text/plain": [
       "<matplotlib.figure.Figure at 0x7fcf2368ee80>"
      ]
     },
     "metadata": {
      "needs_background": "light"
     },
     "output_type": "display_data"
    }
   ],
   "source": [
    "plt.plot(E_x,modf)\n",
    "plt.plot(spec[:,0],mus_alessandro)\n",
    "plt.xlabel(\"E [keV]\", fontweight=\"bold\")\n",
    "plt.ylabel(r\"$\\mu$\")"
   ]
  },
  {
   "cell_type": "markdown",
   "metadata": {},
   "source": [
    "# MDP Calculation on N=84233, N(E) = spec.dat spectrum"
   ]
  },
  {
   "cell_type": "markdown",
   "metadata": {},
   "source": [
    "Sample of tracks that follow spec distribution"
   ]
  },
  {
   "cell_type": "code",
   "execution_count": 4,
   "metadata": {
    "collapsed": true
   },
   "outputs": [],
   "source": []
  },
  {
   "cell_type": "code",
   "execution_count": 27,
   "metadata": {},
   "outputs": [
    {
     "name": "stdout",
     "output_type": "stream",
     "text": [
      "2.02\n"
     ]
    },
    {
     "data": {
      "image/png": "[encoded data removed]",
      "text/plain": [
       "<matplotlib.figure.Figure at 0x7f0dd73e9ba8>"
      ]
     },
     "metadata": {
      "needs_background": "light"
     },
     "output_type": "display_data"
    }
   ],
   "source": [
    "plt.plot(np.linspace(1,9,1601),f(np.linspace(1,9,1601)))\n",
    "print(np.linspace(1,9,1601)[np.argmax(f(np.linspace(1,9,1601)))])"
   ]
  },
  {
   "cell_type": "code",
   "execution_count": 10,
   "metadata": {},
   "outputs": [
    {
     "data": {
      "text/plain": [
       "76.39999999999999"
      ]
     },
     "execution_count": 10,
     "metadata": {},
     "output_type": "execute_result"
    }
   ],
   "source": [
    "3.82 * 20"
   ]
  },
  {
   "cell_type": "code",
   "execution_count": 41,
   "metadata": {},
   "outputs": [
    {
     "data": {
      "text/plain": [
       "36.2"
      ]
     },
     "execution_count": 41,
     "metadata": {},
     "output_type": "execute_result"
    }
   ],
   "source": [
    "20*1.81"
   ]
  },
  {
   "cell_type": "code",
   "execution_count": 28,
   "metadata": {},
   "outputs": [
    {
     "data": {
      "text/plain": [
       "36.50753594162937"
      ]
     },
     "execution_count": 28,
     "metadata": {},
     "output_type": "execute_result"
    }
   ],
   "source": [
    "len(angles_mom[energies_sim == E[10:71][np.argmax(f(E[10:71]))]]) / np.max(f(E[10:71]))"
   ]
  },
  {
   "cell_type": "code",
   "execution_count": 13,
   "metadata": {
    "collapsed": true
   },
   "outputs": [],
   "source": [
    "f = interpolate.interp1d(np.linspace(1,9,1601), N_E, kind=\"cubic\")\n",
    "modf_weight = f(energies_spec)"
   ]
  },
  {
   "cell_type": "code",
   "execution_count": 34,
   "metadata": {},
   "outputs": [
    {
     "name": "stdout",
     "output_type": "stream",
     "text": [
      "(422278, 3, 15)\n",
      "(422278, 3, 15)\n",
      "0.0\n",
      "0.1\n",
      "0.2\n",
      "0.30000000000000004\n",
      "0.4\n",
      "0.5\n",
      "0.6000000000000001\n",
      "0.7000000000000001\n",
      "0.8\n",
      "0.9\n",
      "1.0\n",
      "1.1\n",
      "1.2000000000000002\n",
      "1.3\n",
      "1.4000000000000001\n",
      "1.5\n",
      "1.6\n",
      "1.7000000000000002\n",
      "1.8\n",
      "1.9000000000000001\n",
      "2.0\n",
      "2.1\n",
      "2.2\n",
      "2.3000000000000003\n",
      "2.4000000000000004\n",
      "2.5\n",
      "2.6\n",
      "2.7\n",
      "2.8000000000000003\n",
      "2.9000000000000004\n",
      "3.0\n"
     ]
    }
   ],
   "source": [
    "with open(home_dir +  \"fom_pol_big_train___flat_all_pol__ensemble.pickle\", \"rb\") as file:\n",
    "    A = pickle.load(file)\n",
    "angles, angles_mom, angles_sim, moms, errors, _, _, _, \\\n",
    "_, energies_sim, _, _, _ = A\n",
    "\n",
    "E = set(energies_sim[:])\n",
    "E = np.sort(list(E))\n",
    "\n",
    "\n",
    "angles_NN_spec = []\n",
    "angles_mom_spec = []\n",
    "angles_sim_spec = []\n",
    "moms_spec = []\n",
    "errors_spec = []\n",
    "energies_spec = []\n",
    "\n",
    "fom5 = []\n",
    "fom5_err = []\n",
    "mu0s = []\n",
    "mus = []\n",
    "\n",
    "for i,e in enumerate(E[10:71]):\n",
    "    cut = (e == energies_sim)\n",
    "#     N = np.sum(cut)\n",
    "    N = int(f(e) * 20 * 1.3)\n",
    "    if i == 0 or e > 8.89:\n",
    "        N = int(N*0.5)\n",
    "    idxs = np.random.choice(np.arange(np.sum(cut)), size=N, replace=False)\n",
    "\n",
    "    angles_NN_spec.append(angles[cut][idxs])\n",
    "    angles_mom_spec.append(angles_mom[cut][idxs])\n",
    "    angles_sim_spec.append(angles_sim[cut][idxs])\n",
    "    errors_spec.append(errors[cut][idxs])\n",
    "    moms_spec.append(moms[cut][idxs])\n",
    "    energies_spec.append(energies_sim[cut][idxs])\n",
    "\n",
    "angles_NN_spec = np.concatenate(angles_NN_spec,axis=0)\n",
    "angles_mom_spec = np.concatenate(angles_mom_spec)\n",
    "angles_sim_spec = np.concatenate(angles_sim_spec)\n",
    "errors_spec = np.concatenate(errors_spec)\n",
    "moms_spec = np.concatenate(moms_spec)\n",
    "energies_spec = np.concatenate(energies_spec)\n",
    "print(angles_NN_spec.shape)\n",
    "\n",
    "errors_epis_spec = circular_std(angles_NN_spec,axis=(1,2))\n",
    "angles_NN_spec = circular_mean(angles_NN_spec,axis=(1,2))\n",
    "errors_spec = np.sqrt(errors_spec.T**2/4 + errors_epis_spec**2).T\n",
    "errors_spec = np.sqrt(np.mean(errors_spec**2,axis=(1,2)))\n",
    "\n",
    "#     def mdp(lambd):\n",
    "#         mu, _, Neff = weighted_stokes(np.ndarray.flatten(angles_NN_spec), 1/np.ndarray.flatten(errors_spec), lambd)\n",
    "#         return MDP(Neff,mu)\n",
    "\n",
    "#     res = minimize_scalar(mdp, bounds=(0,8),method=\"bounded\")\n",
    "\n",
    "\n",
    "with open(home_dir +  \"review_unpol_train___flat_all_unpol__ensemble.pickle\", \"rb\") as file:\n",
    "    A = pickle.load(file)\n",
    "angles, angles_mom, angles_sim, moms, errors, _, _, _, \\\n",
    "_, energies_sim, _, _, _ = A\n",
    "\n",
    "\n",
    "angles_NN_spec0 = []\n",
    "angles_mom_spec0 = []\n",
    "angles_sim_spec0 = []\n",
    "moms_spec0 = []\n",
    "errors_spec0 = []\n",
    "energies_spec0 = []\n",
    "\n",
    "for i,e in enumerate(E[10:71]):\n",
    "    #e = E[np.argmin(abs(spec[i,0] - E))]\n",
    "    cut = (e == energies_sim)\n",
    "#     N = np.sum(cut)\n",
    "    N = int(f(e) * 20 * 1.3)\n",
    "    if i == 0 or e > 8.89:\n",
    "        N = int(N*0.5)\n",
    "    idxs = np.random.choice(np.arange(np.sum(cut)), size=N, replace=False)\n",
    "\n",
    "    angles_NN_spec0.append(angles[cut][idxs])\n",
    "    angles_mom_spec0.append(angles_mom[cut][idxs])\n",
    "    angles_sim_spec0.append(angles_sim[cut][idxs])\n",
    "    errors_spec0.append(errors[cut][idxs])\n",
    "    moms_spec0.append(moms[cut][idxs])\n",
    "    energies_spec0.append(energies_sim[cut][idxs])\n",
    "\n",
    "angles_NN_spec0 = np.concatenate(angles_NN_spec0,axis=0)\n",
    "angles_mom_spec0 = np.concatenate(angles_mom_spec0)\n",
    "angles_sim_spec0 = np.concatenate(angles_sim_spec0)\n",
    "errors_spec0 = np.concatenate(errors_spec0)\n",
    "moms_spec0 = np.concatenate(moms_spec0)\n",
    "energies_spec0 = np.concatenate(energies_spec0)\n",
    "print(angles_NN_spec0.shape)\n",
    "\n",
    "errors_epis_spec0 = circular_std(angles_NN_spec0,axis=(1,2))\n",
    "angles_NN_spec0 = circular_mean(angles_NN_spec0,axis=(1,2))\n",
    "errors_spec0 = np.sqrt(errors_spec0.T**2/4 + errors_epis_spec0**2).T\n",
    "errors_spec0 = np.sqrt(np.mean(errors_spec0**2,axis=(1,2)))\n",
    "\n",
    "\n",
    "\n",
    "\n",
    "\n",
    "\n",
    "\n",
    "\n",
    "for lamb in np.linspace(0,3,31):\n",
    "    print(lamb)\n",
    "#     def mdp(lambd):\n",
    "#         mu, _, Neff = weighted_stokes(np.ndarray.flatten(angles_NN_spec), 1/np.ndarray.flatten(errors_spec), lambd)\n",
    "#         return MDP(Neff,mu)\n",
    "\n",
    "#     res = minimize_scalar(mdp, bounds=(0,8),method=\"bounded\")\n",
    "    mu, _, Neff = weighted_stokes(np.ndarray.flatten(angles_NN_spec), 1/np.ndarray.flatten(errors_spec), lamb)\n",
    "    # mu_mom, _, Neff_mom = weighted_stokes(angles_mom_spec, None, 1)\n",
    "    # cut = ellipticity_cut(angles_mom_spec, moms_spec, 0.81)\n",
    "    # angles_mom_spec_cut = angles_mom_spec[moms_spec > cut]\n",
    "    # mu_cut, _, Neff_cut = weighted_stokes(angles_mom_spec_cut, None, 1)\n",
    "\n",
    "    mu0, _, Neff = weighted_stokes(np.ndarray.flatten(angles_NN_spec0), 1/np.ndarray.flatten(errors_spec0), lamb)\n",
    "    #     mu0s.append(mu0)\n",
    "    #     mus.append(mu)\n",
    "    # mu0_mom, _, Neff0_mom = weighted_stokes(angles_mom_spec0, None, 1)\n",
    "    # cut = ellipticity_cut(angles_mom_spec0, moms_spec0, 0.81)\n",
    "    # angles_mom_spec_cut = angles_mom_spec0[moms_spec0 > cut]\n",
    "    # mu0_cut, _, Neff0_cut = weighted_stokes(angles_mom_spec_cut, None, 1)\n",
    "\n",
    "    # print(\"NN \", mu0/mu, \"+-\", np.sqrt((2 - mu0**2)/(Neff - 1)) / mu)\n",
    "    # print(\"Mom \", mu0_mom/mu_mom, \"+-\", np.sqrt((2 - mu0_mom**2)/(Neff0_mom - 1)) / mu_mom)\n",
    "    # print(\"Cut\", mu0_cut/mu_cut, \"+-\", np.sqrt((2 - mu0_cut**2)/(Neff0_cut - 1)) / mu_cut)\n",
    "    # print(\"lambda \", res[\"x\"])\n",
    "    fom5.append(mu0/mu)\n",
    "    fom5_err.append(np.sqrt((2 - mu0**2)/(Neff - 1)) / mu)\n"
   ]
  },
  {
   "cell_type": "code",
   "execution_count": null,
   "metadata": {
    "collapsed": true
   },
   "outputs": [],
   "source": [
    "2.7\n",
    "NN  0.016023034398879255 +- 0.007054152122739383\n",
    "Mom  0.020550522112992686 +- 0.007837797704057277\n",
    "Cut 0.01888186240550287 +- 0.007687874089935065\n",
    "lambda  1.9331479470096469\n",
    "\n",
    "4.5\n",
    "NN  0.001108745909185208 +- 0.004208269945090459\n",
    "Mom  0.002892031538604564 +- 0.005182085367357016\n",
    "Cut 0.005958181492026404 +- 0.005057417090146785\n",
    "lambda  1.1026509420343489\n",
    "\n",
    "6.4\n",
    "NN  0.00423499062137739 +- 0.0034382756186412\n",
    "Mom  0.00570227387533451 +- 0.004377977165999669\n",
    "Cut 0.004213837250565764 +- 0.0042298299210430336\n",
    "lambda  0.9076028689805875\n",
    "\n",
    "8.0\n",
    "NN  0.00472375236291715 +- 0.003177526678505583\n",
    "Mom  0.00872307283354885 +- 0.003890013784979775\n",
    "Cut 0.008761665878888325 +- 0.0038017438778313434\n",
    "lambda  0.8423747780955716\n",
    "\n",
    "PL1\n",
    "NN  0.006935855458532797 +- 0.0048796914468254736\n",
    "Mom  0.01406464819752402 +- 0.006196078847335713\n",
    "Cut 0.013415494626760774 +- 0.005930295659756976\n",
    "lambda  1.081125654533663\n",
    "\n",
    "NN  0.005568801371219717 +- 0.00417664676726821\n",
    "Mom  0.008298336242803316 +- 0.005321524576947815\n",
    "Cut 0.007700814400400638 +- 0.005095137138119674\n",
    "lambda  1.0863002826860941\n",
    "\n",
    "PL2\n",
    "\n",
    "NN  0.004620227817496737 +- 0.005388409167795318\n",
    "Mom  0.009252783684419069 +- 0.006838310270211279\n",
    "Cut 0.0070403917133624585 +- 0.006543223734672506\n",
    "lambda  1.1923506442810619\n",
    "\n",
    "NN  0.006917371339014189 +- 0.0049517018079419115\n",
    "Mom  0.012643009896573373 +- 0.006268014519838491\n",
    "Cut 0.010877481882966838 +- 0.005982776919130266\n",
    "lambda  1.1778244933000062"
   ]
  },
  {
   "cell_type": "code",
   "execution_count": 67,
   "metadata": {},
   "outputs": [
    {
     "data": {
      "text/plain": [
       "0.28310345850264046"
      ]
     },
     "execution_count": 67,
     "metadata": {},
     "output_type": "execute_result"
    }
   ],
   "source": [
    "mu_mom"
   ]
  },
  {
   "cell_type": "code",
   "execution_count": 70,
   "metadata": {},
   "outputs": [
    {
     "data": {
      "text/plain": [
       "0.0023965122404136603"
      ]
     },
     "execution_count": 70,
     "metadata": {},
     "output_type": "execute_result"
    }
   ],
   "source": [
    "np.sqrt((2 - mu0_mom**2)/(Neff0_mom - 1))"
   ]
  },
  {
   "cell_type": "code",
   "execution_count": 35,
   "metadata": {},
   "outputs": [
    {
     "data": {
      "text/plain": [
       "[<matplotlib.lines.Line2D at 0x7f72b77ebbe0>]"
      ]
     },
     "execution_count": 35,
     "metadata": {},
     "output_type": "execute_result"
    },
    {
     "data": {
      "image/png": "[encoded data removed]",
      "text/plain": [
       "<matplotlib.figure.Figure at 0x7f72b77eb5f8>"
      ]
     },
     "metadata": {
      "needs_background": "light"
     },
     "output_type": "display_data"
    }
   ],
   "source": [
    "plt.plot(np.linspace(0,3,31), np.mean(np.stack([fom, fom1,fom2, fom3,fom4,fom5]),axis=0))\n",
    "plt.plot(np.linspace(0,3,31), np.mean(np.stack([fom_err, fom1_err,fom2_err,fom3_err,fom4_err,fom5_err]),axis=0))"
   ]
  },
  {
   "cell_type": "code",
   "execution_count": 36,
   "metadata": {
    "collapsed": true
   },
   "outputs": [],
   "source": [
    "fom = np.mean(np.stack([fom, fom1,fom2, fom3,fom4]),axis=0)\n",
    "fom_err = np.mean(np.stack([fom_err, fom1_err,fom2_err,fom3_err,fom4_err]),axis=0)"
   ]
  },
  {
   "cell_type": "code",
   "execution_count": 43,
   "metadata": {},
   "outputs": [
    {
     "data": {
      "image/png": "[encoded data removed]",
      "text/plain": [
       "<matplotlib.figure.Figure at 0x7f72b6e35240>"
      ]
     },
     "metadata": {
      "needs_background": "light"
     },
     "output_type": "display_data"
    }
   ],
   "source": [
    "plt.figure(figsize=(4.5,3.6))\n",
    "plt.errorbar(np.linspace(0,3,31)[::2], [f*100 for f in fom[::2]],\n",
    "         yerr=[np.zeros(len(fom[::2])),[(f + err)/2 * 0.72 * 100 for f,err in zip(fom[::2],fom_err[::2])]], color=\"b\",linestyle='--',marker=\"o\",markersize=3.5 )\n",
    "plt.ylabel(r\"FoM\",fontweight=\"bold\")\n",
    "plt.xlabel(r\"$\\lambda$\")\n",
    "plt.ylim(0.4,1.5)\n",
    "plt.xlim(-0.05,3.05)\n",
    "plt.savefig(\"plots/\" + \"lambda\" + \".pdf\",format=\"pdf\",pad_inches=0.5,bbox_inches=\"tight\")"
   ]
  },
  {
   "cell_type": "code",
   "execution_count": 18,
   "metadata": {},
   "outputs": [
    {
     "data": {
      "text/plain": [
       "[0,\n",
       " [0.011615912905961229,\n",
       "  0.011326869099143327,\n",
       "  0.01109402131483696,\n",
       "  0.01093111999702516,\n",
       "  0.010848458291838413,\n",
       "  0.010849705121076778,\n",
       "  0.010931462494975471,\n",
       "  0.011085790940507113,\n",
       "  0.011303536196577821,\n",
       "  0.01157655878064892,\n",
       "  0.011898569796651402,\n",
       "  0.012265115274032401,\n",
       "  0.012673234165542212,\n",
       "  0.013121068184420732,\n",
       "  0.013607524958567334,\n",
       "  0.014132014215829485,\n",
       "  0.014694248679461848,\n",
       "  0.015294095725663787,\n",
       "  0.015931467539241607,\n",
       "  0.01660624062250104,\n",
       "  0.017318198192641333,\n",
       "  0.01806699086852964,\n",
       "  0.018852112206578356,\n",
       "  0.019672886316127704,\n",
       "  0.020528465170750007,\n",
       "  0.021417833484969073,\n",
       "  0.02233981924155448,\n",
       "  0.023293108180223374,\n",
       "  0.0242762608066781,\n",
       "  0.02528773074284806,\n",
       "  0.026325883497615284]]"
      ]
     },
     "execution_count": 18,
     "metadata": {},
     "output_type": "execute_result"
    }
   ],
   "source": [
    "[0,[f + err for f,err in zip(fom,fom_err)]]"
   ]
  },
  {
   "cell_type": "code",
   "execution_count": 56,
   "metadata": {
    "scrolled": true
   },
   "outputs": [
    {
     "name": "stdout",
     "output_type": "stream",
     "text": [
      "(848126, 3, 15)\n",
      "FoM >>  0.007668767226983824\n",
      "FoM error >>  0.004748492832105083\n",
      "\n",
      " FoM_mom >>  0.008088360893691143\n",
      "FoM error mom >>  0.005126104998362034\n"
     ]
    }
   ],
   "source": [
    "with open(home_dir +  \"review_unpol_train___flat_all_unpol__ensemble.pickle\", \"rb\") as file:\n",
    "    A = pickle.load(file)\n",
    "angles, angles_mom, angles_sim, moms, errors, _, _, _, \\\n",
    "_, energies_sim, _, _, _ = A\n",
    "\n",
    "\n",
    "angles_NN_spec = []\n",
    "angles_mom_spec = []\n",
    "angles_sim_spec = []\n",
    "moms_spec = []\n",
    "errors_spec = []\n",
    "energies_spec = []\n",
    "\n",
    "for i,e in enumerate(E[10:71]):\n",
    "    #e = E[np.argmin(abs(spec[i,0] - E))]\n",
    "    cut = (e == energies_sim)\n",
    "    N = int(f(e) * 20 * 3.8)\n",
    "    #N = np.sum(cut)\n",
    "    if i == 0 or e > 8.89:\n",
    "        N = int(N*0.5)\n",
    "    idxs = np.random.choice(np.arange(np.sum(cut)), size=N, replace=False)\n",
    "\n",
    "    angles_NN_spec.append(angles[cut][idxs])\n",
    "    angles_mom_spec.append(angles_mom[cut][idxs])\n",
    "    angles_sim_spec.append(angles_sim[cut][idxs])\n",
    "    errors_spec.append(errors[cut][idxs])\n",
    "    moms_spec.append(moms[cut][idxs])\n",
    "    energies_spec.append(energies_sim[cut][idxs])\n",
    "\n",
    "angles_NN_spec = np.concatenate(angles_NN_spec,axis=0)\n",
    "angles_mom_spec = np.concatenate(angles_mom_spec)\n",
    "angles_sim_spec = np.concatenate(angles_sim_spec)\n",
    "errors_spec = np.concatenate(errors_spec)\n",
    "moms_spec = np.concatenate(moms_spec)\n",
    "energies_spec = np.concatenate(energies_spec)\n",
    "print(angles_NN_spec.shape)\n",
    "\n",
    "errors_epis_spec = circular_std(angles_NN_spec,axis=(1,2))\n",
    "angles_NN_spec = circular_mean(angles_NN_spec,axis=(1,2))\n",
    "errors_spec = np.sqrt(errors_spec.T**2/4 + errors_epis_spec**2).T\n",
    "errors_spec = np.sqrt(np.mean(errors_spec**2,axis=(1,2)))\n",
    "\n",
    "#     def mdp(lambd):\n",
    "#         mu, _, Neff = weighted_stokes(np.ndarray.flatten(angles_NN_spec), 1/np.ndarray.flatten(errors_spec), lambd)\n",
    "#         return MDP(Neff,mu)\n",
    "\n",
    "#     res = minimize_scalar(mdp, bounds=(0,8),method=\"bounded\")\n",
    "mu0, _, Neff = weighted_stokes(np.ndarray.flatten(angles_NN_spec), 1/np.ndarray.flatten(errors_spec), 0)\n",
    "mu0_mom, _, Neff0_mom = weighted_stokes(angles_mom_spec, None, 1)\n",
    "    \n",
    "\n",
    "#print(\"mu0 >> \", mu0)\n",
    "print(\"FoM >> \", mu0/mu)\n",
    "#print(\"mu0 error >> \", np.sqrt((2 - mu0**2)/(Neff - 1)))\n",
    "print(\"FoM error >> \", np.sqrt((2 - mu0**2)/(Neff - 1)) / mu)\n",
    "\n",
    "#print(\"mu0 >> \", mu0_mom)\n",
    "print(\"\\n FoM_mom >> \", mu0_mom/mu_mom)\n",
    "#print(\"mu0 error >> \", np.sqrt((2 - mu0_mom**2)/(Neff0_mom - 1)))\n",
    "print(\"FoM error mom >> \", np.sqrt((2 - mu0_mom**2)/(Neff0_mom - 1)) / mu_mom)"
   ]
  },
  {
   "cell_type": "code",
   "execution_count": 33,
   "metadata": {},
   "outputs": [
    {
     "data": {
      "text/plain": [
       "0.02622950819672131"
      ]
     },
     "execution_count": 33,
     "metadata": {},
     "output_type": "execute_result"
    }
   ],
   "source": [
    "0.8/30.5"
   ]
  },
  {
   "cell_type": "code",
   "execution_count": 20,
   "metadata": {},
   "outputs": [
    {
     "name": "stdout",
     "output_type": "stream",
     "text": [
      "(481305, 3, 10)\n",
      "0.44631699519662776 391421.0\n",
      "MDP >>  3.370559462386723\n",
      "(481305, 3, 10)\n",
      "0.44094063401716704 391074.0\n",
      "MDP >>  3.413169726069451\n",
      "(481305, 3, 10)\n",
      "0.4433490087723497 391248.0\n",
      "MDP >>  3.393873663892618\n",
      "(481305, 3, 10)\n",
      "0.44227978802122947 391262.0\n",
      "MDP >>  3.4020175587928656\n",
      "(481305, 3, 10)\n",
      "0.4411040502723025 391101.0\n",
      "MDP >>  3.411787471728921\n",
      "Final MDP 3.398281576574116  +-  0.015530415781255866\n",
      "Final Neff/N 0.8128342734856278  +-  0.00026019845927076807\n",
      "Final mu 0.4427980952559353  +-  0.0019634029410602345\n",
      "Final $\\lambda$ 1.3123326859880233  +-  0.0\n"
     ]
    }
   ],
   "source": [
    "mdps = []\n",
    "neffs = []\n",
    "mus = []\n",
    "lambdas = []\n",
    "#\"fom_pol_big_train___pl1_pol__ensemble.pickle\"\n",
    "#\"fom_pol_big_train___flat_all_pol__ensemble.pickle\"\n",
    "#\"fom_pol_big_train___flat_weight_pol__ensemble.pickle\"\n",
    "with open(home_dir +  \"fom_pol_big_train___flat_weight_pol__ensemble.pickle\", \"rb\") as file:\n",
    "    A = pickle.load(file)\n",
    "angles, angles_mom, angles_sim, moms, errors, _, _, _, \\\n",
    "_, energies_sim, _, _, _ = A\n",
    "\n",
    "E = set(energies_sim[:])\n",
    "E = np.sort(list(E))\n",
    "\n",
    "for i in range(5):\n",
    "    angles_NN_spec = []\n",
    "    angles_mom_spec = []\n",
    "    angles_sim_spec = []\n",
    "    moms_spec = []\n",
    "    errors_spec = []\n",
    "    energies_spec = []\n",
    "\n",
    "    f = interpolate.interp1d(np.linspace(1,9,1601), N_E, kind=\"cubic\")\n",
    "    modf_weight = f(energies_spec)\n",
    "\n",
    "    for i,e in enumerate(E[10:71]):\n",
    "        #e = E[np.argmin(abs(spec[i,0] - E))]\n",
    "        cut = (e == energies_sim)\n",
    "        N = int(f(e) * 20 * 0.4)\n",
    "        if i == 0 or e > 8.89:\n",
    "            N = int(N*0.5)\n",
    "        idxs = np.random.choice(np.arange(np.sum(cut)), size=N, replace=False)\n",
    "\n",
    "        angles_NN_spec.append(angles[cut][idxs])\n",
    "        angles_mom_spec.append(angles_mom[cut][idxs])\n",
    "        angles_sim_spec.append(angles_sim[cut][idxs])\n",
    "        errors_spec.append(errors[cut][idxs])\n",
    "        moms_spec.append(moms[cut][idxs])\n",
    "        energies_spec.append(energies_sim[cut][idxs])\n",
    "\n",
    "    angles_NN_spec = np.concatenate(angles_NN_spec,axis=0)\n",
    "    angles_mom_spec = np.concatenate(angles_mom_spec)\n",
    "    angles_sim_spec = np.concatenate(angles_sim_spec)\n",
    "    errors_spec = np.concatenate(errors_spec)\n",
    "    moms_spec = np.concatenate(moms_spec)\n",
    "    energies_spec = np.concatenate(energies_spec)\n",
    "    print(angles_NN_spec.shape)\n",
    "    \n",
    "    errors_epis_spec = circular_std(angles_NN_spec,axis=(1,2))\n",
    "    angles_NN_spec = circular_mean(angles_NN_spec,axis=(1,2))\n",
    "    errors_spec = np.sqrt(errors_spec.T**2/4 + errors_epis_spec**2).T\n",
    "    errors_spec = np.sqrt(np.mean(errors_spec**2,axis=(1,2)))\n",
    "    \n",
    "#     def mdp(lambd):\n",
    "#         mu, _, Neff = weighted_stokes(np.ndarray.flatten(angles_NN_spec), 1/np.ndarray.flatten(errors_spec), lambd)\n",
    "#         return MDP(Neff,mu)\n",
    "\n",
    "#     res = minimize_scalar(mdp, bounds=(0,8),method=\"bounded\")\n",
    "    \n",
    "    cut = ellipticity_cut(angles_mom_spec, moms_spec, 0.816)\n",
    "    angles_mom_spec_cut = angles_mom_spec[moms_spec > cut]\n",
    "    #mu, phi0, Neff = weighted_stokes(angles_mom_spec_cut, None, 1)\n",
    "    \n",
    "    mu, _, Neff = weighted_stokes(angles_mom_spec_cut, None, 1)\n",
    "    print(mu,Neff)\n",
    "    print(\"MDP >> \",  MDP(Neff,mu) * np.sqrt(len(angles_mom_spec)/100000))\n",
    "    mdps.append( MDP(Neff,mu) * np.sqrt(len(angles_NN_spec)/100000))\n",
    "    neffs.append(Neff / len(angles_NN_spec))\n",
    "    mus.append(mu)\n",
    "\n",
    "    lambdas.append(res[\"x\"])\n",
    "    \n",
    "    \n",
    "print(\"Final MDP\", np.mean(mdps), \" +- \", np.std(mdps))\n",
    "print(\"Final Neff/N\", np.mean(neffs), \" +- \", np.std(neffs))\n",
    "print(\"Final mu\", np.mean(mus), \" +- \", np.std(mus))\n",
    "print(r\"Final $\\lambda$\", np.mean(lambdas), \" +- \", np.std(lambdas))\n",
    "\n",
    "# with open(\"spec_angles\" + \".pickle\", 'wb') as f:\n",
    "#     pickle.dump((angles_NN_spec, angles_mom_spec, angles_sim_spec, moms_spec, errors_spec, energies_spec), f)"
   ]
  },
  {
   "cell_type": "code",
   "execution_count": null,
   "metadata": {
    "collapsed": true
   },
   "outputs": [],
   "source": [
    "NN weight\n",
    "Final MDP 2.8057703567771517  +-  0.004704233683366559\n",
    "Final Neff/N 0.8121717094282417  +-  0.0023508906635092003\n",
    "Final mu 0.5365183201930515  +-  0.0015433042342406496\n",
    "Final $\\lambda$ 1.327033382294098  +-  0.00934647066004809\n",
    "\n",
    "NN\n",
    "Final MDP 3.1881193172775126  +-  0.012018737567047529\n",
    "Final Neff/N 1.0  +-  0.0\n",
    "Final mu 0.4255287479884234  +-  0.0016062758886784556\n",
    "Final $\\lambda$ 1.3123326859880233  +-  0.0\n",
    "\n",
    "Mom\n",
    "Final MDP 3.5613209605387346  +-  0.014509341407685065\n",
    "Final Neff/N 1.0  +-  0.0\n",
    "Final mu 0.38093718921689107  +-  0.0015493752186728016\n",
    "Final $\\lambda$ 1.3123326859880233  +-  0.0\n",
    "\n",
    "Mom cut\n",
    "Final MDP 3.398281576574116  +-  0.015530415781255866\n",
    "Final Neff/N 0.8128342734856278  +-  0.00026019845927076807\n",
    "Final mu 0.4427980952559353  +-  0.0019634029410602345\n",
    "Final $\\lambda$ 1.3123326859880233  +-  0.0"
   ]
  },
  {
   "cell_type": "code",
   "execution_count": null,
   "metadata": {
    "collapsed": true
   },
   "outputs": [],
   "source": []
  },
  {
   "cell_type": "code",
   "execution_count": 23,
   "metadata": {},
   "outputs": [
    {
     "data": {
      "text/plain": [
       "3.7166820575478043"
      ]
     },
     "execution_count": 23,
     "metadata": {},
     "output_type": "execute_result"
    }
   ],
   "source": [
    "MDP(36.01369380501214/45 * 401726, 0.40801328503563183) * np.sqrt(401726/100000)"
   ]
  },
  {
   "cell_type": "code",
   "execution_count": 33,
   "metadata": {},
   "outputs": [
    {
     "data": {
      "text/plain": [
       "0.008054678789375158"
      ]
     },
     "execution_count": 33,
     "metadata": {},
     "output_type": "execute_result"
    }
   ],
   "source": [
    "4.29/((0.287 - np.sqrt((2-0.287**2)/(900000-1))) * np.sqrt(900000)) * 100 - 4.29/((0.287) * np.sqrt(900000)) * 100"
   ]
  },
  {
   "cell_type": "code",
   "execution_count": 34,
   "metadata": {},
   "outputs": [
    {
     "data": {
      "text/plain": [
       "0.024164036368125474"
      ]
     },
     "execution_count": 34,
     "metadata": {},
     "output_type": "execute_result"
    }
   ],
   "source": [
    "0.008054678789375158 * np.sqrt(900000/100000)"
   ]
  },
  {
   "cell_type": "code",
   "execution_count": null,
   "metadata": {
    "collapsed": true
   },
   "outputs": [],
   "source": [
    "Final  2.597883723799443  +-  0.011790170479709162      >=1.3"
   ]
  },
  {
   "cell_type": "code",
   "execution_count": null,
   "metadata": {
    "collapsed": true
   },
   "outputs": [],
   "source": [
    "Final  2.5442351906564005  +-  0.015631857220806213     >=1.8"
   ]
  },
  {
   "cell_type": "code",
   "execution_count": null,
   "metadata": {
    "collapsed": true
   },
   "outputs": [],
   "source": [
    "Final  2.604137185418023  +-  0.020735883347626275      >=2.2"
   ]
  },
  {
   "cell_type": "code",
   "execution_count": 23,
   "metadata": {},
   "outputs": [
    {
     "data": {
      "text/plain": [
       "16.4"
      ]
     },
     "execution_count": 23,
     "metadata": {},
     "output_type": "execute_result"
    }
   ],
   "source": [
    "17.2 - 0.8"
   ]
  },
  {
   "cell_type": "code",
   "execution_count": null,
   "metadata": {
    "collapsed": true
   },
   "outputs": [],
   "source": [
    "16.44077841614153  +-  0.3634592596561814"
   ]
  },
  {
   "cell_type": "code",
   "execution_count": null,
   "metadata": {
    "collapsed": true
   },
   "outputs": [],
   "source": [
    "9.643990083943981  +-  0.10926291463869266"
   ]
  },
  {
   "cell_type": "code",
   "execution_count": null,
   "metadata": {
    "collapsed": true
   },
   "outputs": [],
   "source": [
    "4.71 -- old weight + epistemic (>1.7)"
   ]
  },
  {
   "cell_type": "code",
   "execution_count": null,
   "metadata": {
    "collapsed": true
   },
   "outputs": [],
   "source": [
    "4.687 -- new weight + epistemic (>1.7)"
   ]
  },
  {
   "cell_type": "code",
   "execution_count": null,
   "metadata": {
    "collapsed": true
   },
   "outputs": [],
   "source": [
    "4.80 -- new weight + epistemic (>2.2)"
   ]
  },
  {
   "cell_type": "code",
   "execution_count": null,
   "metadata": {
    "collapsed": true
   },
   "outputs": [],
   "source": [
    "~4.72 -- new weight + epistemic (>1.5)"
   ]
  },
  {
   "cell_type": "code",
   "execution_count": null,
   "metadata": {
    "collapsed": true
   },
   "outputs": [],
   "source": [
    "4.80491537247851 -- new weight + epistemic (full band)"
   ]
  },
  {
   "cell_type": "code",
   "execution_count": null,
   "metadata": {
    "collapsed": true
   },
   "outputs": [],
   "source": [
    "4.70307504279912 -- new weight + epistemic"
   ]
  },
  {
   "cell_type": "code",
   "execution_count": null,
   "metadata": {
    "collapsed": true
   },
   "outputs": [],
   "source": [
    "4.7302 -- old weight"
   ]
  },
  {
   "cell_type": "code",
   "execution_count": null,
   "metadata": {
    "collapsed": true
   },
   "outputs": [],
   "source": [
    "4.732705675559917 -- new weight"
   ]
  },
  {
   "cell_type": "code",
   "execution_count": null,
   "metadata": {
    "collapsed": true
   },
   "outputs": [],
   "source": []
  },
  {
   "cell_type": "code",
   "execution_count": 190,
   "metadata": {
    "collapsed": true
   },
   "outputs": [],
   "source": [
    "with open(\"spec_angles.pickle\", \"rb\") as file:\n",
    "    angles_NN_spec, angles_mom_spec, angles_sim_spec, ellipticities_spec, errors_spec, energies_spec = pickle.load(file)"
   ]
  },
  {
   "cell_type": "code",
   "execution_count": 178,
   "metadata": {},
   "outputs": [
    {
     "name": "stdout",
     "output_type": "stream",
     "text": [
      "N total >>  286181\n"
     ]
    },
    {
     "data": {
      "text/plain": [
       "Text(0,0.5,'$N$')"
      ]
     },
     "execution_count": 178,
     "metadata": {},
     "output_type": "execute_result"
    },
    {
     "data": {
      "image/png": "[encoded data removed]",
      "text/plain": [
       "<matplotlib.figure.Figure at 0x7fe6770e8e10>"
      ]
     },
     "metadata": {
      "needs_background": "light"
     },
     "output_type": "display_data"
    }
   ],
   "source": [
    "#Example (simulated) spectrum following spec.dat, with both moment analysis and NN predicted track angles\n",
    "print(\"N total >> \", len(angles_mom_spec))\n",
    "\n",
    "fig, (ax1,ax2) = plt.subplots(figsize=(15,5),ncols=2)\n",
    "hist1 = ax1.hist(pi2_pi2(angles_mom_spec), bins=100, density=True,histtype=\"step\",color=\"b\",label=\"Mom.\")\n",
    "hist2 = ax1.hist(angles_NN_spec, bins=100, density=True,histtype=\"step\",color=\"r\",label=\"NN\")\n",
    "hist3 = ax1.hist(pi2_pi2(angles_sim_spec), bins=100, density=True,histtype=\"step\",color=\"k\",label=\"True\")\n",
    "\n",
    "ax1.legend(loc=4)\n",
    "ax1.set_xlabel(r\"$\\theta$\")\n",
    "\n",
    "hist4 = ax2.hist(energies_spec,bins=np.linspace(1.95,8.05,62),histtype=\"step\")\n",
    "ax2.set_xlabel(r\"$E$ $[keV]$\")\n",
    "ax2.set_ylabel(r\"$N$\")"
   ]
  },
  {
   "cell_type": "code",
   "execution_count": 191,
   "metadata": {},
   "outputs": [
    {
     "name": "stdout",
     "output_type": "stream",
     "text": [
      "mu_eff >> 0.315328896817595\n",
      "N_eff / N >> 0.7846887109905969\n",
      "MDP >> 5.560573045852143\n"
     ]
    }
   ],
   "source": [
    "# Standard Cut, keep = 0.8\n",
    "cut = ellipticity_cut(angles_mom_spec, ellipticities_spec, 0.8)\n",
    "angles_mom_spec_cut = angles_mom_spec[ellipticities_spec > cut]\n",
    "mu, phi0, Neff = weighted_stokes(angles_mom_spec_cut, None, 1)\n",
    "\n",
    "print(\"mu_eff >>\", mu)\n",
    "print(\"N_eff / N >>\", Neff / 286181 )\n",
    "print(\"MDP >>\",MDP(Neff,mu)  / np.sqrt(76287/286181))"
   ]
  },
  {
   "cell_type": "code",
   "execution_count": 192,
   "metadata": {},
   "outputs": [
    {
     "name": "stdout",
     "output_type": "stream",
     "text": [
      "mu_eff >> 0.31244516721960786\n",
      "N_eff / N >> 0.8829762026912062\n",
      "MDP >> 5.290341567537704\n",
      "lambda >> 0.669495799832251\n"
     ]
    }
   ],
   "source": [
    "#Optimizing lambda for weighted moment analysis (using ellipticities as weights).\n",
    "def mdp(lambd):\n",
    "    mu, _, Neff = weighted_stokes(angles_mom_spec, ellipticities_spec, lambd)\n",
    "    return MDP(Neff,mu)\n",
    "\n",
    "res = minimize_scalar(mdp, bounds=(0,8),method=\"bounded\")\n",
    "mu, _, Neff = weighted_stokes(angles_mom_spec, ellipticities_spec, res['x'])\n",
    "\n",
    "print(\"mu_eff >>\", mu)\n",
    "print(\"N_eff / N >>\", Neff / 286181 )\n",
    "print(\"MDP >>\", res['fun']  / np.sqrt(76287/286181) )\n",
    "print(r\"lambda >>\", res['x'])"
   ]
  },
  {
   "cell_type": "code",
   "execution_count": null,
   "metadata": {
    "collapsed": true
   },
   "outputs": [],
   "source": [
    "#Herman method for moments\n",
    "def mdp(lambd):\n",
    "    mu, _, Neff = weighted_stokes(angles_NN_spec, modf_weight, lambd)\n",
    "    return MDP(Neff,mu)\n",
    "\n",
    "res = minimize_scalar(mdp, bounds=(0,8),method=\"bounded\")\n",
    "mu, _, Neff = weighted_stokes(angles_mom_spec, modf_weight, 1)\n",
    "# mu, phi0, Neff = weighted_stokes(angles_mom_spec, modf_weight, 1)\n",
    "\n",
    "print(\"mu_eff >>\", mu)\n",
    "print(\"N_eff / N >>\", Neff / 286181 )\n",
    "print(\"MDP >>\",MDP(Neff,mu)  / np.sqrt(76287/286181))\n",
    "print(r\"lambda >>\", res['x'])"
   ]
  },
  {
   "cell_type": "code",
   "execution_count": 193,
   "metadata": {},
   "outputs": [
    {
     "name": "stdout",
     "output_type": "stream",
     "text": [
      "mu_eff >> 0.2691633844707371\n",
      "N_eff / N >> 1.0\n",
      "MDP >> 5.770534520708351\n"
     ]
    }
   ],
   "source": [
    "#Lambda = 1.5 for weighted NNs\n",
    "mu, phi0, Neff = weighted_stokes(angles_mom_spec, None, 1)\n",
    "\n",
    "print(\"mu_eff >>\", mu)\n",
    "print(\"N_eff / N >>\", Neff / 286181 )\n",
    "print(\"MDP >>\",MDP(Neff,mu)  / np.sqrt(76287/286181))"
   ]
  },
  {
   "cell_type": "code",
   "execution_count": 194,
   "metadata": {},
   "outputs": [
    {
     "name": "stdout",
     "output_type": "stream",
     "text": [
      "mu_eff >> 0.36113283226827353\n",
      "N_eff / N >> 0.8194340609691977\n",
      "MDP >> 4.751251764851363\n",
      "lambda >> 1.8612280540468826\n"
     ]
    }
   ],
   "source": [
    "#Optimizing lambda for weighted NNs\n",
    "def mdp(lambd):\n",
    "    mu, _, Neff = weighted_stokes(angles_NN_spec, 1/errors_spec, lambd)\n",
    "    return MDP(Neff,mu)\n",
    "\n",
    "res = minimize_scalar(mdp, bounds=(0,8),method=\"bounded\")\n",
    "mu, _, Neff = weighted_stokes(angles_NN_spec, 1/errors_spec, res['x'])\n",
    "\n",
    "print(\"mu_eff >>\", mu)\n",
    "print(\"N_eff / N >>\", Neff / 286181 )\n",
    "print(\"MDP >>\", res['fun']  / np.sqrt(76287/286181) )\n",
    "print(r\"lambda >>\", res['x'])"
   ]
  },
  {
   "cell_type": "code",
   "execution_count": 158,
   "metadata": {},
   "outputs": [
    {
     "name": "stdout",
     "output_type": "stream",
     "text": [
      "mu_eff >> 0.33957706344765853\n",
      "N_eff / N >> 0.6880330979345239\n",
      "MDP >> 5.5142824844475165\n",
      "keep_fraction >> 0.6960069608100495\n"
     ]
    }
   ],
   "source": [
    "# Optimizing the cut fraction\n",
    "# Standard cut is keep = 0.8\n",
    "def mdp(keep):\n",
    "    cut = ellipticity_cut(angles_mom_spec, ellipticities_spec, keep)\n",
    "    angles_mom_spec_cut = angles_mom_spec[ellipticities_spec > cut]\n",
    "    mu, _, Neff = weighted_stokes(angles_mom_spec_cut, None, 1)\n",
    "    return MDP(Neff,mu)\n",
    "\n",
    "res = minimize_scalar(mdp, bounds=(0.02,1.01),method=\"bounded\")\n",
    "cut = ellipticity_cut(angles_mom_spec, ellipticities_spec, res['x'])\n",
    "angles_mom_spec_cut = angles_mom_spec[ellipticities_spec > cut]\n",
    "mu, _, Neff = weighted_stokes(angles_mom_spec_cut, None, 1)\n",
    "\n",
    "print(\"mu_eff >>\", mu)\n",
    "print(\"N_eff / N >>\", Neff / 286181 )\n",
    "print(\"MDP >>\", res['fun'] / np.sqrt(76287/286181) )\n",
    "print(r\"keep_fraction >>\", res['x'])"
   ]
  },
  {
   "cell_type": "code",
   "execution_count": null,
   "metadata": {
    "collapsed": true
   },
   "outputs": [],
   "source": []
  }
 ],
 "metadata": {
  "kernelspec": {
   "display_name": "Python 3.6.1 64-bit",
   "language": "python",
   "name": "python36164bite6d9904fbf3244a9be493cf1d38ee557"
  },
  "language_info": {
   "codemirror_mode": {
    "name": "ipython",
    "version": 3
   },
   "file_extension": ".py",
   "mimetype": "text/x-python",
   "name": "python",
   "nbconvert_exporter": "python",
   "pygments_lexer": "ipython3",
   "version": "3.6.1"
  }
 },
 "nbformat": 4,
 "nbformat_minor": 2
}

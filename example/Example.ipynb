{
 "cells": [
  {
   "cell_type": "markdown",
   "metadata": {},
   "source": [
    "# Introduction to IXPEML"
   ]
  },
  {
   "cell_type": "markdown",
   "metadata": {},
   "source": [
    "This notebook contains an example run through of the IXPEML pipeline on an example **simulated** and **measured** (calibration) dataset.\n",
    "\n",
    "A 4.51keV polarized calibration file (4p51keV_pol.fits) is provided separately in a google drive (these were too large to save in the github repository). Please download them and store them in directory ```example/data``` to follow this notebook.\n",
    "\n",
    "Check ```requirement.txt``` to install all of the python3 (this work used python 3.6.1) dependencies. Allyn has noted that the code also can work with higher version packages than those listed in ```requirement.txt```.\n",
    "Note this file does not include GPDSW and GPDEXT, these are discussed below.\n",
    "\n",
    "Let me know of any difficulties or feature requests at alpv95@stanford.edu"
   ]
  },
  {
   "cell_type": "code",
   "execution_count": 1,
   "metadata": {
    "collapsed": true
   },
   "outputs": [],
   "source": [
    "#imports\n",
    "import sys\n",
    "import os\n",
    "os.chdir(os.path.dirname(os.getcwd()))\n",
    "import numpy as np\n",
    "import torch\n",
    "from util.methods import *\n",
    "from util.net_test import *\n",
    "import pickle\n",
    "import matplotlib.pyplot as plt\n",
    "\n",
    "# this allows plots to appear directly in the notebook\n",
    "%matplotlib inline"
   ]
  },
  {
   "cell_type": "markdown",
   "metadata": {},
   "source": [
    "# Step 1: Raw track reconstruction"
   ]
  },
  {
   "cell_type": "markdown",
   "metadata": {},
   "source": [
    "Run GPDSW reconstruction on the raw fits files, this step is the same for simulated and real (calibration) data. This requires up to date GPDSW and GPDEXT software from the [IXPE bitbucket](https://bitbucket.org/ixpesw/workspace/projects/IGS).\n",
    "\n",
    "**We do not provide the whole of GPDSW and GPDEXT in this repository, this must be installed independently by the user.**"
   ]
  },
  {
   "cell_type": "markdown",
   "metadata": {},
   "source": [
    "## Real (calibration) data"
   ]
  },
  {
   "cell_type": "markdown",
   "metadata": {},
   "source": [
    "Example gpdsw commands for reconstructing real data."
   ]
  },
  {
   "cell_type": "markdown",
   "metadata": {},
   "source": [
    "```\n",
    "cd gpdsw/\n",
    "source setup.sh\n",
    "\n",
    "cd bin/\n",
    "./ixperecon \n",
    "        --write-tracks \n",
    "        --input-files example/data/4p51keV_pol.fits \n",
    "        --threshold 10\n",
    "        --output-folder example/data\n",
    "        --n 50000\n",
    "```"
   ]
  },
  {
   "cell_type": "markdown",
   "metadata": {},
   "source": [
    "## Simulated Data"
   ]
  },
  {
   "cell_type": "markdown",
   "metadata": {},
   "source": [
    "Example gpdsw commands for simulating and reconstructing simulated data.\n",
    "\n",
    "I recommend simulating tracks from spectral files, e.g. `flat.txt` shown below and saved in `example/data`. This is much more efficient than simulating multiple line sources.\n",
    "\n",
    "`gpdswpy/fitsplit.py` splits the simulated fits file into two parts (one part with the monte carlo data `\"_mc.fits\"` and one with the rest `\".fits\"`) to make ixperecon run faster (otherwise it is prohibitively slow for simulated data).\n",
    "\n",
    "Since the final `sim_spec_recon.fits` file produce by ixperecon and `\"_mc.fits\"` contain all the data, we can delete the original `\".fits\"` file to save space."
   ]
  },
  {
   "cell_type": "markdown",
   "metadata": {},
   "source": [
    "```\n",
    "cd gpdsw/\n",
    "source setup.sh\n",
    "\n",
    "cd bin/\n",
    "./ixpesim -n 50000 \n",
    "            --random-seed 194 \n",
    "            --output-file example/data/sim_spec.fits \n",
    "            --log-file example/data/sim_spec.log \n",
    "            --src-spectrum user \n",
    "            --src-spec-file example/data/flat.txt \n",
    "            --src-pol-degree 0 \n",
    "            --src-pol-angle 0 \n",
    "            --dme-pressure 733 \n",
    "\n",
    "cd ..\n",
    "python gpdswpy/fitsplit.py example/data/sim_spec.fits \n",
    "\n",
    "cd bin/ \n",
    "./ixperecon --write-tracks \n",
    "            --input-files example/data/sim_spec.fits\n",
    "            --threshold 10\n",
    "            --output-folder example/data/ \n",
    "            \n",
    "rm example/data/sim_spec.fits\n",
    "\n",
    "```"
   ]
  },
  {
   "cell_type": "markdown",
   "metadata": {},
   "source": [
    "# Step 2: Hexagonal -> Square"
   ]
  },
  {
   "cell_type": "markdown",
   "metadata": {},
   "source": [
    "Transform the fits files of hexagonal tracks into square tracks for the NNs to use. The final products of this step are directories containing:\n",
    "* ```tracks_full.pickle``` (Containing sparse representations of square tracks to be read by the NNs)\n",
    "* ```labels_full.pt``` (Containing all of the track metadata -- angles_simulated, angles_moments, energies, abs_pts_simulated, abs_pts_moments, ...  )\n",
    "\n",
    "The initial hexagonal dataset is split up into 3 directories: `train/`, `test/` and `val/` (just the first two for real data). Their actual meaning is only relevant during NN training. The split fractions can be set within `run_build_fitsdata.py`.\n",
    "\n",
    "This step is handled by ```run_build_fitsdata.py```, which contains multiple options for designing a simulated or real square dataset from hexagonal fits files."
   ]
  },
  {
   "cell_type": "code",
   "execution_count": 2,
   "metadata": {},
   "outputs": [
    {
     "name": "stdout",
     "output_type": "stream",
     "text": [
      "usage: run_build_fitsdata.py [-h] [--augment {1,3}] [--npix {30,50}] [--meas]\r\n",
      "                             [--tot TOT] [--peak_only] [--tailvpeak TAILVPEAK]\r\n",
      "                             input_file out_base\r\n",
      "\r\n",
      "positional arguments:\r\n",
      "  input_file            input folder or file\r\n",
      "  out_base              output folder\r\n",
      "\r\n",
      "optional arguments:\r\n",
      "  -h, --help            show this help message and exit\r\n",
      "  --augment {1,3}       Number of Track augmentation randomly distributed in\r\n",
      "                        dataset. These should always be 3 during inference and\r\n",
      "                        1 during training\r\n",
      "  --npix {30,50}        Number of pixels in square conversions. This should be\r\n",
      "                        50 for >= v1.2\r\n",
      "  --meas                Whether data is real or simulated, if squaring\r\n",
      "                        measured data this argument is required\r\n",
      "  --tot TOT             The total number of tracks to convert to square\r\n",
      "  --peak_only           No low or high Z tail tracks\r\n",
      "  --tailvpeak TAILVPEAK\r\n",
      "                        Fraction of Peak tracks to keep.\r\n"
     ]
    }
   ],
   "source": [
    "!python3 run_build_fitsdata.py -h"
   ]
  },
  {
   "cell_type": "markdown",
   "metadata": {},
   "source": [
    "## Make simulated square dataset"
   ]
  },
  {
   "cell_type": "code",
   "execution_count": 13,
   "metadata": {},
   "outputs": [
    {
     "name": "stdout",
     "output_type": "stream",
     "text": [
      "Directory already exists for Simulated\n",
      "Building  50000 tracks of example/data/sim_spec_recon.fits\n",
      "50000 loaded ok\n",
      "50000 post cut\n",
      "Final size:  torch.Size([50000, 3])\n",
      "Finished \n",
      "\n",
      "Saved,  example/data/train/\n"
     ]
    }
   ],
   "source": [
    "#Simulated Tracks\n",
    "!python3 run_build_fitsdata.py example/data/sim_spec_recon.fits example/data --tot 50000  \n"
   ]
  },
  {
   "cell_type": "markdown",
   "metadata": {},
   "source": [
    "## Make measured square dataset"
   ]
  },
  {
   "cell_type": "code",
   "execution_count": 24,
   "metadata": {},
   "outputs": [
    {
     "name": "stdout",
     "output_type": "stream",
     "text": [
      "Total number of unique tracks = 50000\n",
      "\n",
      "Directory already exists\n",
      "No Monte Carlo, measured data only \n",
      "\n",
      "50000 loaded ok\n",
      "Final size:  torch.Size([50000])\n",
      "Finished \n",
      "\n",
      "Saved,  example/data/meas4p51\n"
     ]
    }
   ],
   "source": [
    "#Measured (calibration) data \n",
    "#use --meas flag:\n",
    "\n",
    "!python3 run_build_fitsdata.py example/data/4p51keV_pol_recon.fits example/data/meas4p51 --meas"
   ]
  },
  {
   "cell_type": "markdown",
   "metadata": {},
   "source": [
    "# Step 3: Deep Ensemble"
   ]
  },
  {
   "cell_type": "markdown",
   "metadata": {},
   "source": [
    "Run square track datasets through the deep ensemble of NNs. **This requires a GPU available (the more the merrier).**\n",
    "This step is run with ```run_ensemble_eval.py```; the results are saved in a fits file specified with ```save_name```.\n",
    "\n",
    "The only difference between simulated and measured data is the ```---datatype``` flag.\n",
    "\n",
    "**Notes:**\n",
    "* I suggest playing with the `batch_size` parameter in `net_test.py` if the code is throwing GPU memory based errors. It should always be a factor of 2, e.g. 512, 1024, 2048, 4096. Higher batch size means faster runtime but more memory usage on the GPUs."
   ]
  },
  {
   "cell_type": "code",
   "execution_count": 27,
   "metadata": {},
   "outputs": [
    {
     "name": "stdout",
     "output_type": "stream",
     "text": [
      "usage: run_ensemble_eval.py [-h]\r\n",
      "                            [--ensemble {bessel_rand,bessel_rand_small,heads_only,tailvpeak,energy,flat_weight}]\r\n",
      "                            [--data_list DATA_LIST [DATA_LIST ...]]\r\n",
      "                            [--datatype {sim,meas}]\r\n",
      "                            [--stokes_correct {2.0,2.3,2.7,3.1,3.7,5.9}]\r\n",
      "                            save_name\r\n",
      "\r\n",
      "positional arguments:\r\n",
      "  save_name             Save Net FoV results in Pandas dataframe with this\r\n",
      "                        name\r\n",
      "\r\n",
      "optional arguments:\r\n",
      "  -h, --help            show this help message and exit\r\n",
      "  --ensemble {bessel_rand,bessel_rand_small,heads_only,tailvpeak,energy,flat_weight}\r\n",
      "                        Which network ensemble to use: Ensemble prediction or\r\n",
      "                        single prediction\r\n",
      "  --data_list DATA_LIST [DATA_LIST ...]\r\n",
      "                        List of Data to evaluate on\r\n",
      "  --datatype {sim,meas}\r\n",
      "                        Simulated or Measured track data\r\n",
      "  --stokes_correct {2.0,2.3,2.7,3.1,3.7,5.9}\r\n",
      "                        Whether to correct measured tracks for spurious\r\n",
      "                        modulation (incomplete).\r\n"
     ]
    }
   ],
   "source": [
    "!python3 run_ensemble_eval.py -h"
   ]
  },
  {
   "cell_type": "markdown",
   "metadata": {},
   "source": [
    "### Simulated Data"
   ]
  },
  {
   "cell_type": "code",
   "execution_count": 6,
   "metadata": {},
   "outputs": [
    {
     "name": "stdout",
     "output_type": "stream",
     "text": [
      "Number of GPUs available: 2\n",
      "\n",
      "Evaluating using ensemble: \n",
      " ['733bessel3/models/mom_1024_91.ptmodel', '733bessel3/models/mom_512_171.ptmodel', '733bessel1/models/mom_1024_91.ptmodel', '733bessel2/models/RLRP_512_91.ptmodel', '733bessel2/models/mom_4096_171.ptmodel', '733bessel1/models/RLRP_1024_131.ptmodel', '733bessel2/models/RLRP_2048_91.ptmodel', '733bessel1/models/RLRP_4096_131.ptmodel', '733bessel3/models/mom_4096_151.ptmodel']\n",
      "\n",
      " 9 NNs in the ensemble \n",
      "\n",
      ">> NN 1/9 : \n",
      "\n",
      "Loading full dataset into memory\n",
      "\n",
      "Dataset size:  50000\n",
      "Let's use 2 GPUs!\n",
      "Evaluating on GPU \n",
      "\n",
      ">> Complete\n",
      ">> NN 2/9 : \n",
      "\n",
      "Loading full dataset into memory\n",
      "\n",
      "Dataset size:  50000\n",
      "Let's use 2 GPUs!\n",
      "Evaluating on GPU \n",
      "\n",
      ">> Complete\n",
      ">> NN 3/9 : \n",
      "\n",
      "Loading full dataset into memory\n",
      "\n",
      "Dataset size:  50000\n",
      "Let's use 2 GPUs!\n",
      "Evaluating on GPU \n",
      "\n",
      ">> Complete\n",
      ">> NN 4/9 : \n",
      "\n",
      "Loading full dataset into memory\n",
      "\n",
      "Dataset size:  50000\n",
      "Let's use 2 GPUs!\n",
      "Evaluating on GPU \n",
      "\n",
      ">> Complete\n",
      ">> NN 5/9 : \n",
      "\n",
      "Loading full dataset into memory\n",
      "\n",
      "Dataset size:  50000\n",
      "Let's use 2 GPUs!\n",
      "Evaluating on GPU \n",
      "\n",
      ">> Complete\n",
      ">> NN 6/9 : \n",
      "\n",
      "Loading full dataset into memory\n",
      "\n",
      "Dataset size:  50000\n",
      "Let's use 2 GPUs!\n",
      "Evaluating on GPU \n",
      "\n",
      ">> Complete\n",
      ">> NN 7/9 : \n",
      "\n",
      "Loading full dataset into memory\n",
      "\n",
      "Dataset size:  50000\n",
      "Let's use 2 GPUs!\n",
      "Evaluating on GPU \n",
      "\n",
      ">> Complete\n",
      ">> NN 8/9 : \n",
      "\n",
      "Loading full dataset into memory\n",
      "\n",
      "Dataset size:  50000\n",
      "Let's use 2 GPUs!\n",
      "Evaluating on GPU \n",
      "\n",
      ">> Complete\n",
      ">> NN 9/9 : \n",
      "\n",
      "Loading full dataset into memory\n",
      "\n",
      "Dataset size:  50000\n",
      "Let's use 2 GPUs!\n",
      "Evaluating on GPU \n",
      "\n",
      ">> Complete\n",
      "Saved to: /home/groups/rwr/alpv95/tracksml/_example_data_train___nn_sim_spec__ensemble.fits\n"
     ]
    }
   ],
   "source": [
    "#Run tracks through deep ensemble (requires GPU available)\n",
    "print(\"Number of GPUs available: {}\\n\".format(torch.cuda.device_count()))\n",
    "\n",
    "!python3 run_ensemble_eval.py nn_sim_spec --data_list example/data/train/"
   ]
  },
  {
   "cell_type": "markdown",
   "metadata": {},
   "source": [
    "### Measured Data"
   ]
  },
  {
   "cell_type": "code",
   "execution_count": 8,
   "metadata": {
    "tags": []
   },
   "outputs": [
    {
     "name": "stdout",
     "output_type": "stream",
     "text": [
      "Number of GPUs available: 2\n",
      "\n",
      "Evaluating using ensemble: \n",
      " ['733bessel3/models/mom_1024_91.ptmodel', '733bessel3/models/mom_512_171.ptmodel', '733bessel1/models/mom_1024_91.ptmodel', '733bessel2/models/RLRP_512_91.ptmodel', '733bessel2/models/mom_4096_171.ptmodel', '733bessel1/models/RLRP_1024_131.ptmodel', '733bessel2/models/RLRP_2048_91.ptmodel', '733bessel1/models/RLRP_4096_131.ptmodel', '733bessel3/models/mom_4096_151.ptmodel']\n",
      "\n",
      " 9 NNs in the ensemble \n",
      "\n",
      ">> NN 1/9 : \n",
      "\n",
      "Loading full dataset into memory\n",
      "\n",
      "Dataset size:  50000\n",
      "Let's use 2 GPUs!\n",
      "Evaluating on GPU \n",
      "\n",
      ">> Complete\n",
      ">> NN 2/9 : \n",
      "\n",
      "Loading full dataset into memory\n",
      "\n",
      "Dataset size:  50000\n",
      "Let's use 2 GPUs!\n",
      "Evaluating on GPU \n",
      "\n",
      ">> Complete\n",
      ">> NN 3/9 : \n",
      "\n",
      "Loading full dataset into memory\n",
      "\n",
      "Dataset size:  50000\n",
      "Let's use 2 GPUs!\n",
      "Evaluating on GPU \n",
      "\n",
      ">> Complete\n",
      ">> NN 4/9 : \n",
      "\n",
      "Loading full dataset into memory\n",
      "\n",
      "Dataset size:  50000\n",
      "Let's use 2 GPUs!\n",
      "Evaluating on GPU \n",
      "\n",
      ">> Complete\n",
      ">> NN 5/9 : \n",
      "\n",
      "Loading full dataset into memory\n",
      "\n",
      "Dataset size:  50000\n",
      "Let's use 2 GPUs!\n",
      "Evaluating on GPU \n",
      "\n",
      ">> Complete\n",
      ">> NN 6/9 : \n",
      "\n",
      "Loading full dataset into memory\n",
      "\n",
      "Dataset size:  50000\n",
      "Let's use 2 GPUs!\n",
      "Evaluating on GPU \n",
      "\n",
      ">> Complete\n",
      ">> NN 7/9 : \n",
      "\n",
      "Loading full dataset into memory\n",
      "\n",
      "Dataset size:  50000\n",
      "Let's use 2 GPUs!\n",
      "Evaluating on GPU \n",
      "\n",
      ">> Complete\n",
      ">> NN 8/9 : \n",
      "\n",
      "Loading full dataset into memory\n",
      "\n",
      "Dataset size:  50000\n",
      "Let's use 2 GPUs!\n",
      "Evaluating on GPU \n",
      "\n",
      ">> Complete\n",
      ">> NN 9/9 : \n",
      "\n",
      "Loading full dataset into memory\n",
      "\n",
      "Dataset size:  50000\n",
      "Let's use 2 GPUs!\n",
      "Evaluating on GPU \n",
      "\n",
      ">> Complete\n",
      "Saved to: /home/groups/rwr/alpv95/tracksml/_example_data_meas4p51___nn_4p51__ensemble.fits\n"
     ]
    }
   ],
   "source": [
    "#Run tracks through deep ensemble (requires GPU available)\n",
    "print(\"Number of GPUs available: {}\\n\".format(torch.cuda.device_count()))\n",
    "\n",
    "!python3 run_ensemble_eval.py nn_4p51 --data_list example/data/meas4p51/ --datatype meas"
   ]
  },
  {
   "cell_type": "markdown",
   "metadata": {},
   "source": [
    "# Step 4: Analyze results / Postprocess"
   ]
  },
  {
   "cell_type": "markdown",
   "metadata": {},
   "source": [
    "Full results from the deep ensembles and moment analysis are saved in a single fits file, just like the moment analysis `_recon.fits`."
   ]
  },
  {
   "cell_type": "markdown",
   "metadata": {},
   "source": [
    "## Loading results for analysis"
   ]
  },
  {
   "cell_type": "code",
   "execution_count": 10,
   "metadata": {},
   "outputs": [],
   "source": [
    "#Simulated\n",
    "with fits.open('_example_data_train___nn_sim_spec__ensemble.fits', memmap=False) as hdu:\n",
    "    sim_results = hdu[1].data\n",
    "\n",
    "#Measured\n",
    "with fits.open('_example_data_meas4p51___nn_4p51__ensemble.fits', memmap=False) as hdu:\n",
    "    meas_results = hdu[1].data"
   ]
  },
  {
   "cell_type": "code",
   "execution_count": 11,
   "metadata": {},
   "outputs": [
    {
     "data": {
      "text/plain": [
       "ColDefs(\n",
       "    name = 'NN_PHI'; format = 'E'\n",
       "    name = 'MOM_PHI'; format = 'E'\n",
       "    name = 'PHI'; format = 'E'\n",
       "    name = 'MOM_ELLIP'; format = 'E'\n",
       "    name = 'NN_WEIGHT'; format = 'E'\n",
       "    name = 'NN_ABS'; format = '2E'; dim = '(2)'\n",
       "    name = 'MOM_ABS'; format = '2E'; dim = '(2)'\n",
       "    name = 'XY_MOM_ABS'; format = '2E'; dim = '(2)'\n",
       "    name = 'ABS'; format = '2E'; dim = '(3)'\n",
       "    name = 'ENERGY'; format = 'E'\n",
       "    name = 'NN_ENERGY'; format = 'E'\n",
       "    name = 'XY_NN_ABS'; format = '2E'; dim = '(2)'\n",
       "    name = 'XYZ_ABS'; format = '3E'; dim = '(3)'\n",
       "    name = 'MOM_ENERGY'; format = 'E'\n",
       "    name = 'NN_WEIGHT_EPIS'; format = 'E'\n",
       ")"
      ]
     },
     "execution_count": 11,
     "metadata": {},
     "output_type": "execute_result"
    }
   ],
   "source": [
    "sim_results.columns"
   ]
  },
  {
   "cell_type": "code",
   "execution_count": 12,
   "metadata": {},
   "outputs": [
    {
     "data": {
      "text/plain": [
       "ColDefs(\n",
       "    name = 'NN_PHI'; format = 'E'\n",
       "    name = 'MOM_PHI'; format = 'E'\n",
       "    name = 'MOM_ELLIP'; format = 'E'\n",
       "    name = 'NN_WEIGHT'; format = 'E'\n",
       "    name = 'NN_ABS'; format = '2E'; dim = '(2)'\n",
       "    name = 'MOM_ABS'; format = '2E'; dim = '(2)'\n",
       "    name = 'XY_MOM_ABS'; format = '2E'; dim = '(2)'\n",
       "    name = 'NN_ENERGY'; format = 'E'\n",
       "    name = 'XY_NN_ABS'; format = '2E'; dim = '(2)'\n",
       "    name = 'MOM_ENERGY'; format = 'E'\n",
       "    name = 'TRG_ID'; format = 'J'\n",
       "    name = 'FLAG'; format = 'J'\n",
       "    name = 'NN_WEIGHT_EPIS'; format = 'E'\n",
       ")"
      ]
     },
     "execution_count": 12,
     "metadata": {},
     "output_type": "execute_result"
    }
   ],
   "source": [
    "meas_results.columns"
   ]
  },
  {
   "cell_type": "markdown",
   "metadata": {},
   "source": [
    "## Analyse polarization results with weighted Stokes' analysis"
   ]
  },
  {
   "cell_type": "markdown",
   "metadata": {},
   "source": [
    "`util/methods.py' contains the majority of our polarization analysis functions, including weighted Stokes parameters."
   ]
  },
  {
   "cell_type": "code",
   "execution_count": 33,
   "metadata": {},
   "outputs": [
    {
     "name": "stdout",
     "output_type": "stream",
     "text": [
      "(mu, theta0, Neff, mu_err, theta0_err)\n",
      "(0.43072620656377464, -0.6558844898547604, 50000.0, 0.006024136826473457, 0.007341808404571988)\n",
      "(0.3817742289055782, -0.6315598712586169, 50000.0, 0.006089803812692209, 0.008283192117196166)\n",
      "\n",
      " Weighted\n",
      "(mu, theta0, Neff, mu_err, theta0_err)\n",
      "(0.5338425902264442, -0.6405847668647766, 39792.94111524956, 0.00656501964814763, 0.006640093893139687)\n",
      "(0.4561559269803965, -0.6256769299507141, 37513.306244697334, 0.006911505218507016, 0.008003589344836224)\n"
     ]
    },
    {
     "name": "stderr",
     "output_type": "stream",
     "text": [
      "/share/software/user/open/py-matplotlib/2.1.2_py36/lib/python3.6/site-packages/matplotlib/font_manager.py:1320: UserWarning: findfont: Font family ['cursive'] not found. Falling back to DejaVu Sans\n",
      "  (prop.get_family(), self.defaultFamily[fontext]))\n"
     ]
    },
    {
     "data": {
      "image/png": "[encoded data removed]",
      "text/plain": [
       "<matplotlib.figure.Figure at 0x7f01e5627518>"
      ]
     },
     "metadata": {},
     "output_type": "display_data"
    }
   ],
   "source": [
    "fig, ax = plt.subplots(figsize=(7,5))\n",
    "print(\"(mu, theta0, Neff, mu_err, theta0_err)\")\n",
    "mu, _, _, mu_err, _ = weighted_stokes(meas_results['NN_PHI'], error=True)\n",
    "mu_mom, _, _, mu_err_mom, _ = weighted_stokes(meas_results['MOM_PHI'], error=True)\n",
    "print(weighted_stokes(meas_results['NN_PHI'], error=True))\n",
    "print(weighted_stokes(meas_results['MOM_PHI'], error=True))\n",
    "\n",
    "print(\"\\n Weighted\")\n",
    "print(\"(mu, theta0, Neff, mu_err, theta0_err)\")\n",
    "print(weighted_stokes(meas_results['NN_PHI'], meas_results['NN_WEIGHT'], error=True))\n",
    "print(weighted_stokes(meas_results['MOM_PHI'], meas_results['MOM_ELLIP'], error=True))\n",
    "\n",
    "h = ax.hist(meas_results['NN_PHI'], histtype='step', bins=200,color='r',label=f'NN, $\\mu = {mu:.3} \\pm {mu_err:.1}$')\n",
    "h = ax.hist(meas_results['MOM_PHI'], histtype='step', bins=200,color='b',label=f'Mom., $\\mu = {mu_mom:.3} \\pm {mu_err_mom:.1}$')\n",
    "\n",
    "ax.set_xlabel(r\"$\\theta$\")\n",
    "ax.set_ylabel(r\"$n$\")\n",
    "ax.set_xlim(-np.pi,np.pi)\n",
    "\n",
    "leg = ax.legend(loc = 4,)"
   ]
  }
 ],
 "metadata": {
  "kernelspec": {
   "display_name": "Python 3.6.1 64-bit",
   "language": "python",
   "name": "python36164bite6d9904fbf3244a9be493cf1d38ee557"
  },
  "language_info": {
   "codemirror_mode": {
    "name": "ipython",
    "version": 3
   },
   "file_extension": ".py",
   "mimetype": "text/x-python",
   "name": "python",
   "nbconvert_exporter": "python",
   "pygments_lexer": "ipython3",
   "version": "3.6.1"
  }
 },
 "nbformat": 4,
 "nbformat_minor": 2
}
